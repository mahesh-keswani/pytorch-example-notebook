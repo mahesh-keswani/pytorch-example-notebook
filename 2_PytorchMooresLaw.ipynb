{
  "nbformat": 4,
  "nbformat_minor": 0,
  "metadata": {
    "colab": {
      "name": "2_PytorchMooresLaw.ipynb",
      "provenance": [],
      "authorship_tag": "ABX9TyPKfSlNQZKWaUyYMiCaYooC",
      "include_colab_link": true
    },
    "kernelspec": {
      "name": "python3",
      "display_name": "Python 3"
    },
    "language_info": {
      "name": "python"
    }
  },
  "cells": [
    {
      "cell_type": "markdown",
      "metadata": {
        "id": "view-in-github",
        "colab_type": "text"
      },
      "source": [
        "<a href=\"https://colab.research.google.com/github/mahesh-keswani/pytorch-example-notebook/blob/main/2_PytorchMooresLaw.ipynb\" target=\"_parent\"><img src=\"https://colab.research.google.com/assets/colab-badge.svg\" alt=\"Open In Colab\"/></a>"
      ]
    },
    {
      "cell_type": "code",
      "execution_count": 1,
      "metadata": {
        "id": "yXLmGQkHfjIC"
      },
      "outputs": [],
      "source": [
        "import torch\n",
        "import torch.nn as nn\n",
        "import pandas as pd\n",
        "import numpy as np\n",
        "import matplotlib.pyplot as plt"
      ]
    },
    {
      "cell_type": "code",
      "source": [
        "# Latex subscript:\n",
        "# $x_{2}$\n",
        "\n",
        "# Latex superscript:\n",
        "# $x^{2}$"
      ],
      "metadata": {
        "id": "s71oaKIFhdLY"
      },
      "execution_count": 2,
      "outputs": []
    },
    {
      "cell_type": "markdown",
      "source": [
        "The Moore's is a term used to refer to the observation made by Gordon Moore in 1965 that the number of transistors in a dense integrated circuit (IC) doubles about every two years.\n",
        "\n",
        "C = current transistor count\n",
        "<br /> $C_{0}$= initial transistor count\n",
        "<br /> r = rate of increase\n",
        "<br /> t = input time\n",
        "<br />\n",
        "i.e we can formulate it as <br />C = $C_{0}$$r^{t}$\n",
        "\n"
      ],
      "metadata": {
        "id": "0LQbg496gFTd"
      }
    },
    {
      "cell_type": "code",
      "source": [
        "# Data: https://www.kaggle.com/datasets/pascalhouba/moores-law\n",
        "filePath = \"/content/transistors.csv\"\n",
        "data = pd.read_csv(filePath)\n",
        "data.head()"
      ],
      "metadata": {
        "colab": {
          "base_uri": "https://localhost:8080/",
          "height": 206
        },
        "id": "hycUAroKf57E",
        "outputId": "9500a71b-e395-4e8f-aa6e-3131119d1579"
      },
      "execution_count": 3,
      "outputs": [
        {
          "output_type": "execute_result",
          "data": {
            "text/plain": [
              "          Year  Transistors\n",
              "0  1971.875000     2.308242\n",
              "1  1972.307692     3.554522\n",
              "2  1974.326923     6.097562\n",
              "3  1979.567308    29.163776\n",
              "4  1982.307692   135.772714"
            ],
            "text/html": [
              "\n",
              "  <div id=\"df-1eacff8b-6bd9-4e2b-8326-4110d11c0b78\">\n",
              "    <div class=\"colab-df-container\">\n",
              "      <div>\n",
              "<style scoped>\n",
              "    .dataframe tbody tr th:only-of-type {\n",
              "        vertical-align: middle;\n",
              "    }\n",
              "\n",
              "    .dataframe tbody tr th {\n",
              "        vertical-align: top;\n",
              "    }\n",
              "\n",
              "    .dataframe thead th {\n",
              "        text-align: right;\n",
              "    }\n",
              "</style>\n",
              "<table border=\"1\" class=\"dataframe\">\n",
              "  <thead>\n",
              "    <tr style=\"text-align: right;\">\n",
              "      <th></th>\n",
              "      <th>Year</th>\n",
              "      <th>Transistors</th>\n",
              "    </tr>\n",
              "  </thead>\n",
              "  <tbody>\n",
              "    <tr>\n",
              "      <th>0</th>\n",
              "      <td>1971.875000</td>\n",
              "      <td>2.308242</td>\n",
              "    </tr>\n",
              "    <tr>\n",
              "      <th>1</th>\n",
              "      <td>1972.307692</td>\n",
              "      <td>3.554522</td>\n",
              "    </tr>\n",
              "    <tr>\n",
              "      <th>2</th>\n",
              "      <td>1974.326923</td>\n",
              "      <td>6.097562</td>\n",
              "    </tr>\n",
              "    <tr>\n",
              "      <th>3</th>\n",
              "      <td>1979.567308</td>\n",
              "      <td>29.163776</td>\n",
              "    </tr>\n",
              "    <tr>\n",
              "      <th>4</th>\n",
              "      <td>1982.307692</td>\n",
              "      <td>135.772714</td>\n",
              "    </tr>\n",
              "  </tbody>\n",
              "</table>\n",
              "</div>\n",
              "      <button class=\"colab-df-convert\" onclick=\"convertToInteractive('df-1eacff8b-6bd9-4e2b-8326-4110d11c0b78')\"\n",
              "              title=\"Convert this dataframe to an interactive table.\"\n",
              "              style=\"display:none;\">\n",
              "        \n",
              "  <svg xmlns=\"http://www.w3.org/2000/svg\" height=\"24px\"viewBox=\"0 0 24 24\"\n",
              "       width=\"24px\">\n",
              "    <path d=\"M0 0h24v24H0V0z\" fill=\"none\"/>\n",
              "    <path d=\"M18.56 5.44l.94 2.06.94-2.06 2.06-.94-2.06-.94-.94-2.06-.94 2.06-2.06.94zm-11 1L8.5 8.5l.94-2.06 2.06-.94-2.06-.94L8.5 2.5l-.94 2.06-2.06.94zm10 10l.94 2.06.94-2.06 2.06-.94-2.06-.94-.94-2.06-.94 2.06-2.06.94z\"/><path d=\"M17.41 7.96l-1.37-1.37c-.4-.4-.92-.59-1.43-.59-.52 0-1.04.2-1.43.59L10.3 9.45l-7.72 7.72c-.78.78-.78 2.05 0 2.83L4 21.41c.39.39.9.59 1.41.59.51 0 1.02-.2 1.41-.59l7.78-7.78 2.81-2.81c.8-.78.8-2.07 0-2.86zM5.41 20L4 18.59l7.72-7.72 1.47 1.35L5.41 20z\"/>\n",
              "  </svg>\n",
              "      </button>\n",
              "      \n",
              "  <style>\n",
              "    .colab-df-container {\n",
              "      display:flex;\n",
              "      flex-wrap:wrap;\n",
              "      gap: 12px;\n",
              "    }\n",
              "\n",
              "    .colab-df-convert {\n",
              "      background-color: #E8F0FE;\n",
              "      border: none;\n",
              "      border-radius: 50%;\n",
              "      cursor: pointer;\n",
              "      display: none;\n",
              "      fill: #1967D2;\n",
              "      height: 32px;\n",
              "      padding: 0 0 0 0;\n",
              "      width: 32px;\n",
              "    }\n",
              "\n",
              "    .colab-df-convert:hover {\n",
              "      background-color: #E2EBFA;\n",
              "      box-shadow: 0px 1px 2px rgba(60, 64, 67, 0.3), 0px 1px 3px 1px rgba(60, 64, 67, 0.15);\n",
              "      fill: #174EA6;\n",
              "    }\n",
              "\n",
              "    [theme=dark] .colab-df-convert {\n",
              "      background-color: #3B4455;\n",
              "      fill: #D2E3FC;\n",
              "    }\n",
              "\n",
              "    [theme=dark] .colab-df-convert:hover {\n",
              "      background-color: #434B5C;\n",
              "      box-shadow: 0px 1px 3px 1px rgba(0, 0, 0, 0.15);\n",
              "      filter: drop-shadow(0px 1px 2px rgba(0, 0, 0, 0.3));\n",
              "      fill: #FFFFFF;\n",
              "    }\n",
              "  </style>\n",
              "\n",
              "      <script>\n",
              "        const buttonEl =\n",
              "          document.querySelector('#df-1eacff8b-6bd9-4e2b-8326-4110d11c0b78 button.colab-df-convert');\n",
              "        buttonEl.style.display =\n",
              "          google.colab.kernel.accessAllowed ? 'block' : 'none';\n",
              "\n",
              "        async function convertToInteractive(key) {\n",
              "          const element = document.querySelector('#df-1eacff8b-6bd9-4e2b-8326-4110d11c0b78');\n",
              "          const dataTable =\n",
              "            await google.colab.kernel.invokeFunction('convertToInteractive',\n",
              "                                                     [key], {});\n",
              "          if (!dataTable) return;\n",
              "\n",
              "          const docLinkHtml = 'Like what you see? Visit the ' +\n",
              "            '<a target=\"_blank\" href=https://colab.research.google.com/notebooks/data_table.ipynb>data table notebook</a>'\n",
              "            + ' to learn more about interactive tables.';\n",
              "          element.innerHTML = '';\n",
              "          dataTable['output_type'] = 'display_data';\n",
              "          await google.colab.output.renderOutput(dataTable, element);\n",
              "          const docLink = document.createElement('div');\n",
              "          docLink.innerHTML = docLinkHtml;\n",
              "          element.appendChild(docLink);\n",
              "        }\n",
              "      </script>\n",
              "    </div>\n",
              "  </div>\n",
              "  "
            ]
          },
          "metadata": {},
          "execution_count": 3
        }
      ]
    },
    {
      "cell_type": "code",
      "source": [
        "X = data['Year'].values\n",
        "Y = data['Transistors'].values\n",
        "\n",
        "# We can see the exponential growth\n",
        "plt.scatter(X, Y);"
      ],
      "metadata": {
        "colab": {
          "base_uri": "https://localhost:8080/",
          "height": 276
        },
        "id": "e0OMn2gDhrqk",
        "outputId": "30be1510-f685-43f6-9d68-2726776cd773"
      },
      "execution_count": 4,
      "outputs": [
        {
          "output_type": "display_data",
          "data": {
            "text/plain": [
              "<Figure size 432x288 with 1 Axes>"
            ],
            "image/png": "[encoded data removed]"
          },
          "metadata": {
            "needs_background": "light"
          }
        }
      ]
    },
    {
      "cell_type": "markdown",
      "source": [
        "Lets make the exponential data into linear by log-transformation.\n",
        "\n",
        "C = $C_{0}$$r^{t}$\n",
        "<br />\n",
        "logC = t * log(r) + log$C_{0}$\n",
        "<br />\n",
        "This seems like linear equation, with (a, b) as parameters\n",
        "<br/>y    = x * a      + b"
      ],
      "metadata": {
        "id": "6esh4L8uh7Xq"
      }
    },
    {
      "cell_type": "code",
      "source": [
        "Y = np.log(Y)\n",
        "\n",
        "# Also we have to normalize the data as well \n",
        "meanX = X.mean()\n",
        "meanY = Y.mean()\n",
        "stdX = X.std()\n",
        "stdY = Y.std()\n",
        "\n",
        "# we are storing these parameters for inverse transformations\n",
        "X = (X - meanX) / stdX\n",
        "Y = (Y - meanY) / stdY"
      ],
      "metadata": {
        "id": "sn8m8hAOhz2v"
      },
      "execution_count": 5,
      "outputs": []
    },
    {
      "cell_type": "code",
      "source": [
        "# Now we get the linear data\n",
        "plt.scatter(X, Y);"
      ],
      "metadata": {
        "colab": {
          "base_uri": "https://localhost:8080/",
          "height": 268
        },
        "id": "GJ0CGOXwjbY1",
        "outputId": "08e0fb91-6644-45cb-f166-912b29e8cf32"
      },
      "execution_count": 6,
      "outputs": [
        {
          "output_type": "display_data",
          "data": {
            "text/plain": [
              "<Figure size 432x288 with 1 Axes>"
            ],
            "image/png": "[encoded data removed]"
          },
          "metadata": {
            "needs_background": "light"
          }
        }
      ]
    },
    {
      "cell_type": "code",
      "source": [
        "# again, lets create the model\n",
        "model = nn.Linear(1, 1)\n",
        "criterion = nn.MSELoss()\n",
        "optimizer = torch.optim.SGD(model.parameters(), lr = 0.01, momentum = 0.7)"
      ],
      "metadata": {
        "id": "eC_XfZyrjdjm"
      },
      "execution_count": 7,
      "outputs": []
    },
    {
      "cell_type": "code",
      "source": [
        "X = X.reshape(-1, 1)\n",
        "Y = Y.reshape(-1, 1)\n",
        "\n",
        "inputs = torch.from_numpy( X.astype(np.float32))\n",
        "targets = torch.from_numpy( Y.astype(np.float32))"
      ],
      "metadata": {
        "id": "phDQYOc1jw57"
      },
      "execution_count": 8,
      "outputs": []
    },
    {
      "cell_type": "code",
      "source": [
        "EPOCHS = 100\n",
        "losses = []\n",
        "for i in range(EPOCHS):\n",
        "    optimizer.zero_grad()\n",
        "\n",
        "    outputs = model(inputs)\n",
        "    loss = criterion(outputs, targets)\n",
        "\n",
        "    losses.append( loss.item() )\n",
        "\n",
        "    loss.backward()\n",
        "    optimizer.step()\n",
        "\n",
        "    if (i + 1) % 10 == 0:\n",
        "        print(f\"Epoch {i}/{EPOCHS}, loss {loss.item()}\")"
      ],
      "metadata": {
        "colab": {
          "base_uri": "https://localhost:8080/"
        },
        "id": "_-_SugWWkDIl",
        "outputId": "1a385af5-3a1d-4273-f68f-3b0f05120f22"
      },
      "execution_count": 9,
      "outputs": [
        {
          "output_type": "stream",
          "name": "stdout",
          "text": [
            "Epoch 9/100, loss 1.0180553197860718\n",
            "Epoch 19/100, loss 0.20934052765369415\n",
            "Epoch 29/100, loss 0.05498175323009491\n",
            "Epoch 39/100, loss 0.0284331813454628\n",
            "Epoch 49/100, loss 0.02394239977002144\n",
            "Epoch 59/100, loss 0.02318486198782921\n",
            "Epoch 69/100, loss 0.023057136684656143\n",
            "Epoch 79/100, loss 0.023035602644085884\n",
            "Epoch 89/100, loss 0.023031972348690033\n",
            "Epoch 99/100, loss 0.023031359538435936\n"
          ]
        }
      ]
    },
    {
      "cell_type": "code",
      "source": [
        "plt.xlabel(\"Epoch #\")\n",
        "plt.ylabel(\"Loss\")\n",
        "plt.plot(losses);"
      ],
      "metadata": {
        "colab": {
          "base_uri": "https://localhost:8080/",
          "height": 279
        },
        "id": "5bhuLatSktKH",
        "outputId": "b7ae434d-64e2-4642-bd95-36da72055870"
      },
      "execution_count": 10,
      "outputs": [
        {
          "output_type": "display_data",
          "data": {
            "text/plain": [
              "<Figure size 432x288 with 1 Axes>"
            ],
            "image/png": "[encoded data removed]"
          },
          "metadata": {
            "needs_background": "light"
          }
        }
      ]
    },
    {
      "cell_type": "code",
      "source": [
        "predictions = model(inputs).detach().numpy()\n",
        "\n",
        "plt.scatter(X, Y, label = \"original Data\")\n",
        "plt.plot(X, predictions, label = \"Predicted Line\")\n",
        "plt.legend();"
      ],
      "metadata": {
        "colab": {
          "base_uri": "https://localhost:8080/",
          "height": 268
        },
        "id": "NeZEkunXk3GR",
        "outputId": "488b9c85-653e-4a4e-9492-06b582a24890"
      },
      "execution_count": 11,
      "outputs": [
        {
          "output_type": "display_data",
          "data": {
            "text/plain": [
              "<Figure size 432x288 with 1 Axes>"
            ],
            "image/png": "[encoded data removed]"
          },
          "metadata": {
            "needs_background": "light"
          }
        }
      ]
    },
    {
      "cell_type": "code",
      "source": [
        "# Now lets get the slope of line and verify the Moore's law\n",
        "# This represents the log(r)\n",
        "w = model.weight.data.numpy()\n",
        "\n",
        "# This represents the logCo, the intercept\n",
        "b = model.bias.data.numpy()\n",
        "\n",
        "print(w, b)"
      ],
      "metadata": {
        "colab": {
          "base_uri": "https://localhost:8080/"
        },
        "id": "0FrMFJjclL81",
        "outputId": "365b4f08-812e-4862-a5e5-5b2027d8b834"
      },
      "execution_count": 12,
      "outputs": [
        {
          "output_type": "stream",
          "name": "stdout",
          "text": [
            "[[0.9881043]] [7.696594e-05]\n"
          ]
        }
      ]
    },
    {
      "cell_type": "code",
      "source": [
        "# As we know after normalization, \n",
        "# y' = (y - meanY)             x' = (x - meanX)\n",
        "#      -----------                  ------------\n",
        "#         stdY                         stdX\n",
        "\n",
        "# Our Model is \n",
        "# y' = w * x' + b\n",
        "# Lets substitute the values of y' and x' in the above model\n",
        "# (y - meanY)         (x - meanX)\n",
        "# ----------- = w * -------------- + b\n",
        "#   stdY                stdX\n",
        "\n",
        "# After you solve for y\n",
        "# y = w *  stdY  * x + some_constant_term\n",
        "#         ------\n",
        "#          stdX\n",
        "\n",
        "# i.e our slope is\n",
        "# w * (stdY / stdY) = log(r)"
      ],
      "metadata": {
        "id": "zgy-Di8Sln4b"
      },
      "execution_count": 13,
      "outputs": []
    },
    {
      "cell_type": "code",
      "source": [
        "logr = w[0, 0] * (stdY / stdX)\n",
        "print(logr)"
      ],
      "metadata": {
        "colab": {
          "base_uri": "https://localhost:8080/"
        },
        "id": "g1X6mj60ljgO",
        "outputId": "16003681-e33b-4ba6-a8b9-93927b783b04"
      },
      "execution_count": 14,
      "outputs": [
        {
          "output_type": "stream",
          "name": "stdout",
          "text": [
            "0.3474202715008937\n"
          ]
        }
      ]
    },
    {
      "cell_type": "markdown",
      "source": [
        "log(r) = 0.347\n",
        "<br />i.e r = $e^{0.347}$"
      ],
      "metadata": {
        "id": "Zk914q09oeTC"
      }
    },
    {
      "cell_type": "code",
      "source": [
        "# Now lets find the time after which the capacitor count doubles\n",
        "r = np.exp( 0.347 )"
      ],
      "metadata": {
        "id": "bEsMv3iFm_7a"
      },
      "execution_count": 15,
      "outputs": []
    },
    {
      "cell_type": "code",
      "source": [
        "print(r)"
      ],
      "metadata": {
        "colab": {
          "base_uri": "https://localhost:8080/"
        },
        "id": "N9QjXXO9pBTm",
        "outputId": "85d90a7f-454a-4643-a430-a31f4090c381"
      },
      "execution_count": 16,
      "outputs": [
        {
          "output_type": "stream",
          "name": "stdout",
          "text": [
            "1.4148167253704287\n"
          ]
        }
      ]
    },
    {
      "cell_type": "code",
      "source": [
        "# Now we can calculate time after which transistor count doubles\n",
        "# C = C0 * (1.414)^t    .... (1)\n",
        "# 2C = C0 * (1.414)^t'  .... (2)\n",
        "# t' = time which we want to find\n",
        "\n",
        "# lets divide equation 2 with equation 1\n",
        "# 2 = (1.414)^(t' - t)\n",
        "# by taking log\n",
        "# log2 = (t' - t) * log(1.414)\n",
        "# (t' - t) = log2 / log(1.414)\n",
        "# i.e t' = t + ( log2 / log(1.414) )"
      ],
      "metadata": {
        "id": "maxDkYO4pCam"
      },
      "execution_count": 17,
      "outputs": []
    },
    {
      "cell_type": "code",
      "source": [
        ""
      ],
      "metadata": {
        "id": "kUbK6xp-qVKI"
      },
      "execution_count": null,
      "outputs": []
    }
  ]
}