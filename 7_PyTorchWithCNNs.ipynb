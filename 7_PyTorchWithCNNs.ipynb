{
  "nbformat": 4,
  "nbformat_minor": 0,
  "metadata": {
    "colab": {
      "name": "7_PyTorchWithCNNs.ipynb",
      "provenance": [],
      "authorship_tag": "ABX9TyNKqQoYBY5hSD8eaQsquGL5",
      "include_colab_link": true
    },
    "kernelspec": {
      "name": "python3",
      "display_name": "Python 3"
    },
    "language_info": {
      "name": "python"
    },
    "accelerator": "GPU",
    "gpuClass": "standard"
  },
  "cells": [
    {
      "cell_type": "markdown",
      "metadata": {
        "id": "view-in-github",
        "colab_type": "text"
      },
      "source": [
        "<a href=\"https://colab.research.google.com/github/mahesh-keswani/pytorch-example-notebook/blob/main/7_PyTorchWithCNNs.ipynb\" target=\"_parent\"><img src=\"https://colab.research.google.com/assets/colab-badge.svg\" alt=\"Open In Colab\"/></a>"
      ]
    },
    {
      "cell_type": "code",
      "execution_count": 1,
      "metadata": {
        "id": "Hxm5_i5O_BFU"
      },
      "outputs": [],
      "source": [
        "import torch\n",
        "import torch.nn as nn\n",
        "import torchvision\n",
        "import torchvision.transforms as transforms\n",
        "import numpy as np\n",
        "import matplotlib.pyplot as plt\n",
        "import time"
      ]
    },
    {
      "cell_type": "code",
      "source": [
        "def getData(train = False):\n",
        "    dataset = torchvision.datasets.FashionMNIST(\n",
        "        root = \".\",\n",
        "        train = train,\n",
        "        download = True,\n",
        "        transform = transforms.ToTensor()\n",
        "    )\n",
        "    return dataset"
      ],
      "metadata": {
        "id": "Cnc-Nuo7_TnD"
      },
      "execution_count": 2,
      "outputs": []
    },
    {
      "cell_type": "code",
      "source": [
        "# this will return the object with 2 attributes, .data and .targets, where .data contains trainImages, .targets contain trainLabels\n",
        "trainDataset = getData(train = True)"
      ],
      "metadata": {
        "id": "PbP5V3bRAYXV"
      },
      "execution_count": 3,
      "outputs": []
    },
    {
      "cell_type": "code",
      "source": [
        "# 60000 samples with 28x28 dimensions\n",
        "trainDataset.data.shape"
      ],
      "metadata": {
        "colab": {
          "base_uri": "https://localhost:8080/"
        },
        "id": "RV8oC_yHAqgq",
        "outputId": "268325ad-6da2-4f26-8830-9b3df68fdc38"
      },
      "execution_count": 4,
      "outputs": [
        {
          "output_type": "execute_result",
          "data": {
            "text/plain": [
              "torch.Size([60000, 28, 28])"
            ]
          },
          "metadata": {},
          "execution_count": 4
        }
      ]
    },
    {
      "cell_type": "code",
      "source": [
        "trainDataset.data"
      ],
      "metadata": {
        "colab": {
          "base_uri": "https://localhost:8080/"
        },
        "id": "bX-zVGsRAxf0",
        "outputId": "d0bf84c3-18b1-4675-e1b0-4aee78eb5aa8"
      },
      "execution_count": 5,
      "outputs": [
        {
          "output_type": "execute_result",
          "data": {
            "text/plain": [
              "tensor([[[0, 0, 0,  ..., 0, 0, 0],\n",
              "         [0, 0, 0,  ..., 0, 0, 0],\n",
              "         [0, 0, 0,  ..., 0, 0, 0],\n",
              "         ...,\n",
              "         [0, 0, 0,  ..., 0, 0, 0],\n",
              "         [0, 0, 0,  ..., 0, 0, 0],\n",
              "         [0, 0, 0,  ..., 0, 0, 0]],\n",
              "\n",
              "        [[0, 0, 0,  ..., 0, 0, 0],\n",
              "         [0, 0, 0,  ..., 0, 0, 0],\n",
              "         [0, 0, 0,  ..., 0, 0, 0],\n",
              "         ...,\n",
              "         [0, 0, 0,  ..., 0, 0, 0],\n",
              "         [0, 0, 0,  ..., 0, 0, 0],\n",
              "         [0, 0, 0,  ..., 0, 0, 0]],\n",
              "\n",
              "        [[0, 0, 0,  ..., 0, 0, 0],\n",
              "         [0, 0, 0,  ..., 0, 0, 0],\n",
              "         [0, 0, 0,  ..., 0, 0, 0],\n",
              "         ...,\n",
              "         [0, 0, 0,  ..., 0, 0, 0],\n",
              "         [0, 0, 0,  ..., 0, 0, 0],\n",
              "         [0, 0, 0,  ..., 0, 0, 0]],\n",
              "\n",
              "        ...,\n",
              "\n",
              "        [[0, 0, 0,  ..., 0, 0, 0],\n",
              "         [0, 0, 0,  ..., 0, 0, 0],\n",
              "         [0, 0, 0,  ..., 0, 0, 0],\n",
              "         ...,\n",
              "         [0, 0, 0,  ..., 0, 0, 0],\n",
              "         [0, 0, 0,  ..., 0, 0, 0],\n",
              "         [0, 0, 0,  ..., 0, 0, 0]],\n",
              "\n",
              "        [[0, 0, 0,  ..., 0, 0, 0],\n",
              "         [0, 0, 0,  ..., 0, 0, 0],\n",
              "         [0, 0, 0,  ..., 0, 0, 0],\n",
              "         ...,\n",
              "         [0, 0, 0,  ..., 0, 0, 0],\n",
              "         [0, 0, 0,  ..., 0, 0, 0],\n",
              "         [0, 0, 0,  ..., 0, 0, 0]],\n",
              "\n",
              "        [[0, 0, 0,  ..., 0, 0, 0],\n",
              "         [0, 0, 0,  ..., 0, 0, 0],\n",
              "         [0, 0, 0,  ..., 0, 0, 0],\n",
              "         ...,\n",
              "         [0, 0, 0,  ..., 0, 0, 0],\n",
              "         [0, 0, 0,  ..., 0, 0, 0],\n",
              "         [0, 0, 0,  ..., 0, 0, 0]]], dtype=torch.uint8)"
            ]
          },
          "metadata": {},
          "execution_count": 5
        }
      ]
    },
    {
      "cell_type": "code",
      "source": [
        "# See the data is not normalized\n",
        "trainDataset.data.max()"
      ],
      "metadata": {
        "colab": {
          "base_uri": "https://localhost:8080/"
        },
        "id": "1uzS19tYA8Ej",
        "outputId": "4a3cca3b-319b-44c6-9d30-08afe734823e"
      },
      "execution_count": 6,
      "outputs": [
        {
          "output_type": "execute_result",
          "data": {
            "text/plain": [
              "tensor(255, dtype=torch.uint8)"
            ]
          },
          "metadata": {},
          "execution_count": 6
        }
      ]
    },
    {
      "cell_type": "code",
      "source": [
        "# All the same things go with the testDatset as well\n",
        "testDataset = getData(train = False)"
      ],
      "metadata": {
        "id": "nk0ZuKefBYxH"
      },
      "execution_count": 7,
      "outputs": []
    },
    {
      "cell_type": "code",
      "source": [
        "print(f\"Test input samples shape {testDataset.data.shape}\")\n",
        "print(f\"Test output samples shape {testDataset.targets.shape}\")"
      ],
      "metadata": {
        "colab": {
          "base_uri": "https://localhost:8080/"
        },
        "id": "ta5jUALNB3m9",
        "outputId": "348d7e99-a1c6-4c7c-edda-6d45e99dce8a"
      },
      "execution_count": 8,
      "outputs": [
        {
          "output_type": "stream",
          "name": "stdout",
          "text": [
            "Test input samples shape torch.Size([10000, 28, 28])\n",
            "Test output samples shape torch.Size([10000])\n"
          ]
        }
      ]
    },
    {
      "cell_type": "code",
      "source": [
        "# Formula for calculating the output size from convolution\n",
        "# [(W−K+2P)/S]+1.\n",
        "\n",
        "# W is the input volume - in your case 128\n",
        "# K is the Kernel size - in your case 5\n",
        "# P is the padding - in your case 0 i believe\n",
        "# S is the stride - which you have not provided.\n",
        "\n",
        "# Alternatively, we can use this nice website for calculating output size\n",
        "# https://madebyollin.github.io/convnet-calculator/"
      ],
      "metadata": {
        "id": "39ZWtqWAOc_i"
      },
      "execution_count": 9,
      "outputs": []
    },
    {
      "cell_type": "code",
      "source": [
        "class MyCNN(nn.Module):\n",
        "    def __init__(self):\n",
        "        super(MyCNN, self).__init__()\n",
        "        \n",
        "        self.conv_layers = nn.Sequential(\n",
        "            nn.Conv2d(in_channels = 1, out_channels = 32, kernel_size = 3, stride = 2),\n",
        "            nn.ReLU(),\n",
        "            nn.Conv2d(in_channels = 32, out_channels = 64, kernel_size = 3, stride = 2),\n",
        "            nn.ReLU()\n",
        "        )\n",
        "        \n",
        "        self.flatten = nn.Flatten()\n",
        "        \n",
        "        self.dense_layers = nn.Sequential(\n",
        "            nn.Dropout(0.2),\n",
        "            nn.Linear(2304, 256), # Now inorder to calculate the first parameter for the first linear layer, we need to use the Convolutional Arithematic\n",
        "            nn.ReLU(), # so, use the above formula\n",
        "            nn.Dropout(0.3),\n",
        "            nn.Linear(256, 10)\n",
        "        )\n",
        "    \n",
        "    def forward(self, x):\n",
        "        x = self.conv_layers(x)\n",
        "        x = self.flatten(x)\n",
        "        x = self.dense_layers(x)\n",
        "        return x\n"
      ],
      "metadata": {
        "id": "UofvUp3AB5xK"
      },
      "execution_count": 10,
      "outputs": []
    },
    {
      "cell_type": "code",
      "source": [
        "batchSize = 128\n",
        "trainLoader = torch.utils.data.DataLoader(\n",
        "    trainDataset,\n",
        "    batch_size = batchSize,\n",
        "    shuffle = True\n",
        ")\n",
        "\n",
        "testLoader = torch.utils.data.DataLoader(\n",
        "    testDataset,\n",
        "    batch_size = batchSize,\n",
        "    shuffle = False\n",
        ")"
      ],
      "metadata": {
        "id": "xTatwebgDk6-"
      },
      "execution_count": 11,
      "outputs": []
    },
    {
      "cell_type": "code",
      "source": [
        "# NOTE: Whenevr you call the DataLoader, it implicity calls the \"transform\" function which you had define earlier while loading the data\n",
        "# Lets look at the single sample\n",
        "sampleLoader = torch.utils.data.DataLoader(\n",
        "    trainDataset,\n",
        "    batch_size = 1,\n",
        "    shuffle = True\n",
        ")\n",
        "for inputs, targets in sampleLoader:\n",
        "    print(inputs) # Here the data would be normalized\n",
        "    print(inputs.shape)\n",
        "    print(targets.shape)\n",
        "    break"
      ],
      "metadata": {
        "colab": {
          "base_uri": "https://localhost:8080/"
        },
        "id": "r3qUI5aqEISL",
        "outputId": "7ba99a33-48fb-40c9-b3dc-a5bf71f8860b"
      },
      "execution_count": 12,
      "outputs": [
        {
          "output_type": "stream",
          "name": "stdout",
          "text": [
            "tensor([[[[0.0000, 0.0000, 0.0000, 0.0000, 0.0000, 0.0000, 0.0000, 0.0000,\n",
            "           0.0000, 0.0000, 0.0000, 0.5804, 0.9333, 0.7608, 0.7686, 0.8118,\n",
            "           0.9529, 0.6941, 0.0353, 0.0000, 0.0000, 0.0000, 0.0000, 0.0000,\n",
            "           0.0000, 0.0000, 0.0000, 0.0000],\n",
            "          [0.0000, 0.0000, 0.0000, 0.0000, 0.0039, 0.0000, 0.0000, 0.0235,\n",
            "           0.3529, 0.7294, 0.9843, 0.8667, 0.9529, 0.9804, 0.4314, 0.9412,\n",
            "           0.9490, 0.8588, 0.9843, 0.8902, 0.5725, 0.1961, 0.0000, 0.0000,\n",
            "           0.0000, 0.0000, 0.0000, 0.0000],\n",
            "          [0.0000, 0.0000, 0.0000, 0.0000, 0.0000, 0.0000, 0.6745, 0.8392,\n",
            "           0.8627, 0.8353, 0.7804, 0.7569, 0.7176, 0.8588, 0.9137, 0.8627,\n",
            "           0.7608, 0.7569, 0.7686, 0.8118, 0.8588, 0.8588, 0.7529, 0.0549,\n",
            "           0.0000, 0.0000, 0.0000, 0.0000],\n",
            "          [0.0000, 0.0000, 0.0000, 0.0000, 0.0000, 0.5059, 0.8824, 0.7765,\n",
            "           0.7647, 0.7529, 0.7765, 0.7725, 0.7686, 0.7529, 0.7373, 0.7451,\n",
            "           0.7686, 0.7882, 0.7765, 0.7765, 0.7765, 0.7686, 0.8510, 0.6784,\n",
            "           0.0000, 0.0000, 0.0000, 0.0000],\n",
            "          [0.0000, 0.0000, 0.0000, 0.0000, 0.0353, 0.8039, 0.7843, 0.7843,\n",
            "           0.7882, 0.7725, 0.7765, 0.7686, 0.7804, 0.7765, 0.7804, 0.7804,\n",
            "           0.7686, 0.7725, 0.7882, 0.7804, 0.7804, 0.7882, 0.7765, 0.8588,\n",
            "           0.3059, 0.0000, 0.0000, 0.0000],\n",
            "          [0.0000, 0.0000, 0.0000, 0.0000, 0.5686, 0.8510, 0.7882, 0.7765,\n",
            "           0.7804, 0.7804, 0.7765, 0.7765, 0.7765, 0.7765, 0.7765, 0.7765,\n",
            "           0.7765, 0.7686, 0.7765, 0.7569, 0.7804, 0.7922, 0.8000, 0.8510,\n",
            "           0.6784, 0.0000, 0.0000, 0.0000],\n",
            "          [0.0000, 0.0000, 0.0000, 0.0000, 0.8980, 0.8118, 0.8275, 0.7725,\n",
            "           0.7765, 0.7804, 0.7765, 0.7765, 0.7765, 0.7765, 0.7765, 0.7765,\n",
            "           0.7725, 0.7765, 0.8588, 0.8196, 0.7686, 0.7843, 0.8314, 0.8196,\n",
            "           0.9451, 0.0000, 0.0000, 0.0000],\n",
            "          [0.0000, 0.0000, 0.0000, 0.2275, 0.8078, 0.7843, 0.8588, 0.7961,\n",
            "           0.7765, 0.7804, 0.7765, 0.7765, 0.7765, 0.7765, 0.7765, 0.7765,\n",
            "           0.7765, 0.7686, 0.7725, 0.7843, 0.7608, 0.7882, 0.8392, 0.7922,\n",
            "           0.8392, 0.1020, 0.0000, 0.0000],\n",
            "          [0.0000, 0.0000, 0.0000, 0.6510, 0.8824, 0.7922, 0.8549, 0.8667,\n",
            "           0.7529, 0.7961, 0.7804, 0.7765, 0.7686, 0.7882, 0.7804, 0.7804,\n",
            "           0.7804, 0.7843, 0.7843, 0.7961, 0.7176, 0.8706, 0.8627, 0.8000,\n",
            "           0.8980, 0.6078, 0.0000, 0.0000],\n",
            "          [0.0000, 0.0000, 0.0000, 0.0824, 0.4627, 0.7843, 0.8588, 0.9333,\n",
            "           0.7412, 0.8078, 0.7804, 0.7804, 0.7725, 0.7843, 0.7804, 0.7804,\n",
            "           0.7804, 0.7686, 0.8039, 0.7843, 0.7647, 0.9529, 0.9333, 0.7725,\n",
            "           0.7804, 0.3490, 0.0000, 0.0000],\n",
            "          [0.0000, 0.0000, 0.0000, 0.0000, 0.0000, 0.0000, 0.0000, 0.2431,\n",
            "           0.8980, 0.7608, 0.7765, 0.7882, 0.7765, 0.7765, 0.7804, 0.7804,\n",
            "           0.7804, 0.7765, 0.7922, 0.7490, 0.9412, 0.3294, 0.0275, 0.0000,\n",
            "           0.0000, 0.0000, 0.0000, 0.0000],\n",
            "          [0.0000, 0.0000, 0.0000, 0.0039, 0.0000, 0.0000, 0.0000, 0.0000,\n",
            "           0.9098, 0.7765, 0.7686, 0.7922, 0.7804, 0.7765, 0.7804, 0.7804,\n",
            "           0.7765, 0.7843, 0.7765, 0.7882, 0.9529, 0.2235, 0.0000, 0.0000,\n",
            "           0.0000, 0.0000, 0.0000, 0.0000],\n",
            "          [0.0000, 0.0000, 0.0000, 0.0000, 0.0000, 0.0000, 0.0000, 0.0000,\n",
            "           0.8784, 0.7725, 0.7804, 0.7922, 0.7843, 0.7765, 0.7725, 0.7765,\n",
            "           0.7686, 0.7922, 0.7686, 0.7882, 0.8275, 0.2392, 0.0000, 0.0196,\n",
            "           0.0000, 0.0000, 0.0000, 0.0000],\n",
            "          [0.0000, 0.0000, 0.0000, 0.0000, 0.0000, 0.0000, 0.0000, 0.0000,\n",
            "           0.8118, 0.7804, 0.7843, 0.7804, 0.7843, 0.7765, 0.7765, 0.7765,\n",
            "           0.7725, 0.7882, 0.7765, 0.7882, 0.8275, 0.1686, 0.0000, 0.0157,\n",
            "           0.0000, 0.0000, 0.0000, 0.0000],\n",
            "          [0.0000, 0.0000, 0.0000, 0.0000, 0.0000, 0.0000, 0.0000, 0.0000,\n",
            "           0.7137, 0.7922, 0.7961, 0.7647, 0.7882, 0.7765, 0.7765, 0.7765,\n",
            "           0.7765, 0.7686, 0.8039, 0.7765, 0.8078, 0.1098, 0.0000, 0.0196,\n",
            "           0.0000, 0.0000, 0.0000, 0.0000],\n",
            "          [0.0000, 0.0000, 0.0000, 0.0000, 0.0000, 0.0000, 0.0000, 0.0000,\n",
            "           0.6471, 0.8118, 0.7843, 0.7647, 0.7961, 0.7725, 0.7765, 0.7765,\n",
            "           0.7804, 0.7569, 0.8039, 0.7804, 0.7961, 0.0784, 0.0000, 0.0157,\n",
            "           0.0000, 0.0000, 0.0000, 0.0000],\n",
            "          [0.0000, 0.0000, 0.0000, 0.0000, 0.0000, 0.0000, 0.0000, 0.0000,\n",
            "           0.5765, 0.8314, 0.7765, 0.7686, 0.8039, 0.7686, 0.7725, 0.7725,\n",
            "           0.7765, 0.7608, 0.7843, 0.7882, 0.7765, 0.0706, 0.0000, 0.0157,\n",
            "           0.0000, 0.0000, 0.0000, 0.0000],\n",
            "          [0.0000, 0.0000, 0.0000, 0.0000, 0.0000, 0.0000, 0.0000, 0.0000,\n",
            "           0.5529, 0.8314, 0.7647, 0.7725, 0.8000, 0.7725, 0.7725, 0.7725,\n",
            "           0.7686, 0.7647, 0.7647, 0.7882, 0.7725, 0.0706, 0.0000, 0.0157,\n",
            "           0.0000, 0.0000, 0.0000, 0.0000],\n",
            "          [0.0000, 0.0000, 0.0000, 0.0000, 0.0000, 0.0000, 0.0000, 0.0000,\n",
            "           0.5569, 0.8392, 0.7529, 0.7804, 0.7961, 0.7725, 0.7647, 0.7647,\n",
            "           0.7608, 0.7765, 0.7490, 0.7843, 0.7804, 0.0941, 0.0000, 0.0157,\n",
            "           0.0000, 0.0000, 0.0000, 0.0000],\n",
            "          [0.0000, 0.0000, 0.0000, 0.0000, 0.0000, 0.0000, 0.0000, 0.0000,\n",
            "           0.6078, 0.8392, 0.7373, 0.7843, 0.7961, 0.7804, 0.7686, 0.7686,\n",
            "           0.7647, 0.7725, 0.7529, 0.7725, 0.7882, 0.0824, 0.0000, 0.0157,\n",
            "           0.0000, 0.0000, 0.0000, 0.0000],\n",
            "          [0.0000, 0.0000, 0.0000, 0.0000, 0.0000, 0.0000, 0.0000, 0.0000,\n",
            "           0.6392, 0.8235, 0.7020, 0.7922, 0.7961, 0.7804, 0.7725, 0.7686,\n",
            "           0.7647, 0.7725, 0.7529, 0.7686, 0.7804, 0.0863, 0.0000, 0.0196,\n",
            "           0.0000, 0.0000, 0.0000, 0.0000],\n",
            "          [0.0000, 0.0000, 0.0000, 0.0000, 0.0000, 0.0000, 0.0000, 0.0000,\n",
            "           0.6863, 0.7961, 0.7098, 0.8000, 0.7961, 0.7765, 0.7725, 0.7686,\n",
            "           0.7647, 0.7647, 0.7725, 0.7529, 0.7882, 0.1255, 0.0000, 0.0196,\n",
            "           0.0000, 0.0000, 0.0000, 0.0000],\n",
            "          [0.0000, 0.0000, 0.0000, 0.0000, 0.0000, 0.0000, 0.0000, 0.0000,\n",
            "           0.7529, 0.7765, 0.7137, 0.8000, 0.7961, 0.7725, 0.7686, 0.7686,\n",
            "           0.7686, 0.7569, 0.7882, 0.7412, 0.8000, 0.1765, 0.0000, 0.0235,\n",
            "           0.0000, 0.0000, 0.0000, 0.0000],\n",
            "          [0.0000, 0.0000, 0.0000, 0.0000, 0.0000, 0.0000, 0.0000, 0.0000,\n",
            "           0.8078, 0.7451, 0.7333, 0.7882, 0.8039, 0.7804, 0.7608, 0.7686,\n",
            "           0.7765, 0.7686, 0.7686, 0.7412, 0.7843, 0.2392, 0.0000, 0.0078,\n",
            "           0.0000, 0.0000, 0.0000, 0.0000],\n",
            "          [0.0000, 0.0000, 0.0000, 0.0000, 0.0000, 0.0039, 0.0000, 0.0000,\n",
            "           0.6941, 0.7333, 0.7490, 0.8235, 0.8196, 0.7843, 0.7686, 0.7804,\n",
            "           0.7765, 0.7804, 0.7804, 0.7451, 0.7843, 0.3137, 0.0000, 0.0078,\n",
            "           0.0000, 0.0000, 0.0000, 0.0000],\n",
            "          [0.0000, 0.0000, 0.0000, 0.0000, 0.0000, 0.0118, 0.0000, 0.0000,\n",
            "           0.7059, 0.7020, 0.7412, 0.8000, 0.7961, 0.7451, 0.7333, 0.7451,\n",
            "           0.7294, 0.7373, 0.7529, 0.7333, 0.7529, 0.3961, 0.0000, 0.0196,\n",
            "           0.0000, 0.0000, 0.0000, 0.0000],\n",
            "          [0.0000, 0.0000, 0.0000, 0.0000, 0.0000, 0.0157, 0.0000, 0.0980,\n",
            "           0.7922, 0.7608, 0.8196, 1.0000, 0.9843, 0.9333, 0.9333, 0.9373,\n",
            "           0.9294, 0.9294, 0.9373, 0.7922, 0.8235, 0.5882, 0.0000, 0.0196,\n",
            "           0.0000, 0.0000, 0.0000, 0.0000],\n",
            "          [0.0000, 0.0000, 0.0000, 0.0000, 0.0000, 0.0078, 0.0000, 0.0510,\n",
            "           0.4118, 0.3059, 0.3373, 0.3333, 0.3059, 0.2745, 0.3098, 0.3059,\n",
            "           0.3059, 0.3098, 0.3333, 0.2980, 0.3882, 0.2471, 0.0000, 0.0118,\n",
            "           0.0000, 0.0000, 0.0000, 0.0000]]]])\n",
            "torch.Size([1, 1, 28, 28])\n",
            "torch.Size([1])\n"
          ]
        }
      ]
    },
    {
      "cell_type": "code",
      "source": [
        "# input shape = [1, 1, 28, 28] -> batchSize, numberOfChannels, height, width\n",
        "# target shape = [1] -> batchSize"
      ],
      "metadata": {
        "id": "L61aFtc9En1I"
      },
      "execution_count": 13,
      "outputs": []
    },
    {
      "cell_type": "code",
      "source": [
        "criterion = torch.nn.CrossEntropyLoss()\n",
        "model = MyCNN()\n",
        "optimizer = torch.optim.Adam(model.parameters())"
      ],
      "metadata": {
        "id": "fL4hBY9mE9ft"
      },
      "execution_count": 14,
      "outputs": []
    },
    {
      "cell_type": "code",
      "source": [
        "device = torch.device(\"cuda\" if torch.cuda.is_available() else \"cpu\")\n",
        "print(device)\n",
        "model.to(device)"
      ],
      "metadata": {
        "colab": {
          "base_uri": "https://localhost:8080/"
        },
        "id": "SiEXMv4SFJYl",
        "outputId": "14645816-b1fc-456f-d28f-c3e9d2ff45bc"
      },
      "execution_count": 15,
      "outputs": [
        {
          "output_type": "stream",
          "name": "stdout",
          "text": [
            "cuda\n"
          ]
        },
        {
          "output_type": "execute_result",
          "data": {
            "text/plain": [
              "MyCNN(\n",
              "  (conv_layers): Sequential(\n",
              "    (0): Conv2d(1, 32, kernel_size=(3, 3), stride=(2, 2))\n",
              "    (1): ReLU()\n",
              "    (2): Conv2d(32, 64, kernel_size=(3, 3), stride=(2, 2))\n",
              "    (3): ReLU()\n",
              "  )\n",
              "  (flatten): Flatten(start_dim=1, end_dim=-1)\n",
              "  (dense_layers): Sequential(\n",
              "    (0): Dropout(p=0.2, inplace=False)\n",
              "    (1): Linear(in_features=2304, out_features=256, bias=True)\n",
              "    (2): ReLU()\n",
              "    (3): Dropout(p=0.3, inplace=False)\n",
              "    (4): Linear(in_features=256, out_features=10, bias=True)\n",
              "  )\n",
              ")"
            ]
          },
          "metadata": {},
          "execution_count": 15
        }
      ]
    },
    {
      "cell_type": "code",
      "source": [
        "EPOCHS = 10\n",
        "trainLosses = np.zeros(EPOCHS)\n",
        "testLosses = np.zeros(EPOCHS)\n",
        "\n",
        "for epcoh in range(EPOCHS):\n",
        "    trainLoss = [] # this will have loss per batch\n",
        "    start = time.time()\n",
        "    for inputs, targets in trainLoader:\n",
        "        inputs, targets = inputs.to(device), targets.to(device)\n",
        "        \n",
        "        optimizer.zero_grad()\n",
        "        outputs = model(inputs)\n",
        "        loss = criterion(outputs, targets)\n",
        "\n",
        "        trainLoss.append( loss.item() )\n",
        "\n",
        "        loss.backward()\n",
        "        optimizer.step()\n",
        "    \n",
        "    # This has loss per epoch\n",
        "    trainLosses[epcoh] = np.mean( trainLoss )\n",
        "    \n",
        "    testLoss = []\n",
        "    for inputs, targets in testLoader:\n",
        "        inputs, targets = inputs.to(device), targets.to(device)\n",
        "\n",
        "        outputs = model(inputs)\n",
        "\n",
        "        loss = criterion(outputs, targets)\n",
        "        testLoss.append( loss.item() )\n",
        "    \n",
        "    testLosses[epcoh] = np.mean( testLoss )\n",
        "    took = time.time() - start\n",
        "    print(f\"Epoch {epcoh + 1}, Train Loss = {trainLosses[epcoh]}, Test Loss = {testLosses[epcoh]}, Duration = {took}\")"
      ],
      "metadata": {
        "colab": {
          "base_uri": "https://localhost:8080/"
        },
        "id": "FqJk4kbtFhZF",
        "outputId": "ce81d33d-6250-49fe-b725-89eea04d5cf6"
      },
      "execution_count": 16,
      "outputs": [
        {
          "output_type": "stream",
          "name": "stdout",
          "text": [
            "Epoch 1, Train Loss = 0.5748196977542154, Test Loss = 0.44979515728316727, Duration = 13.10549545288086\n",
            "Epoch 2, Train Loss = 0.38404073402571526, Test Loss = 0.38759772875640963, Duration = 6.212236642837524\n",
            "Epoch 3, Train Loss = 0.3352102577876943, Test Loss = 0.3485965277952484, Duration = 6.829366207122803\n",
            "Epoch 4, Train Loss = 0.3066256911452137, Test Loss = 0.3402991345788859, Duration = 6.224876880645752\n",
            "Epoch 5, Train Loss = 0.28300647459813016, Test Loss = 0.3231964854499962, Duration = 6.261119604110718\n",
            "Epoch 6, Train Loss = 0.264329071587591, Test Loss = 0.3148691078907327, Duration = 6.3832666873931885\n",
            "Epoch 7, Train Loss = 0.24742908330995644, Test Loss = 0.30351123232630234, Duration = 6.2596025466918945\n",
            "Epoch 8, Train Loss = 0.2343463237002206, Test Loss = 0.30459652878815613, Duration = 6.396151781082153\n",
            "Epoch 9, Train Loss = 0.21939876891656726, Test Loss = 0.29146695061575006, Duration = 6.260446071624756\n",
            "Epoch 10, Train Loss = 0.20833999217191992, Test Loss = 0.28575484228285053, Duration = 6.250101089477539\n"
          ]
        }
      ]
    },
    {
      "cell_type": "code",
      "source": [
        "totalCorrect = 0.\n",
        "totalCount = 0.\n",
        "for inputs, targets in trainLoader: \n",
        "    inputs, targets = inputs.to(device), targets.to(device)\n",
        "\n",
        "    outputs = model(inputs)\n",
        "\n",
        "    maxValues, indicesOfMaxValues = torch.max( outputs, axis = 1 )\n",
        "    totalCorrect += (indicesOfMaxValues == targets).sum().item()\n",
        "    totalCount += targets.shape[0]\n",
        "\n",
        "print(f\"Train Accuracy {totalCorrect / totalCount}\")\n",
        "\n",
        "totalCorrect = 0.\n",
        "totalCount = 0.\n",
        "for inputs, targets in testLoader: \n",
        "    inputs, targets = inputs.to(device), targets.to(device)\n",
        "\n",
        "    outputs = model(inputs)\n",
        "\n",
        "    maxValues, indicesOfMaxValues = torch.max( outputs, axis = 1 )\n",
        "    totalCorrect += (indicesOfMaxValues == targets).sum().item()\n",
        "    totalCount += targets.shape[0]\n",
        "\n",
        "print(f\"Test Accuracy {totalCorrect / totalCount}\")"
      ],
      "metadata": {
        "id": "DYwKbjoLKjFS",
        "colab": {
          "base_uri": "https://localhost:8080/"
        },
        "outputId": "b0f88474-791d-4cf4-bf86-08bf84d3efb8"
      },
      "execution_count": 17,
      "outputs": [
        {
          "output_type": "stream",
          "name": "stdout",
          "text": [
            "Train Accuracy 0.9288333333333333\n",
            "Test Accuracy 0.8979\n"
          ]
        }
      ]
    },
    {
      "cell_type": "code",
      "source": [
        "plt.xlabel(\"Epoch #\")\n",
        "plt.ylabel(\"Loss\")\n",
        "plt.plot(trainLosses, label = \"Train Loss\")\n",
        "plt.plot(testLosses, label = \"Test Loss\")\n",
        "plt.legend();"
      ],
      "metadata": {
        "colab": {
          "base_uri": "https://localhost:8080/",
          "height": 279
        },
        "id": "EGwQtS90aGvH",
        "outputId": "23aeb27d-2ed1-4317-c744-5bbc7ed8410b"
      },
      "execution_count": 18,
      "outputs": [
        {
          "output_type": "display_data",
          "data": {
            "text/plain": [
              "<Figure size 432x288 with 1 Axes>"
            ],
            "image/png": "[encoded data removed]"
          },
          "metadata": {
            "needs_background": "light"
          }
        }
      ]
    },
    {
      "cell_type": "code",
      "source": [
        "# Now lets look at some sample where our model incorrectly classifies the image\n",
        "predictions = np.array([]) # we will store the predictions here and will compare it with targets\n",
        "for inputs, targets in testLoader:\n",
        "    inputs, targets = inputs.to(device), targets.to(device)\n",
        "    outputs = model(inputs)\n",
        "    _, preds = torch.max( outputs, axis = 1 )\n",
        "    \n",
        "    # Bring the predictions back in the cpu \n",
        "    predictions = np.concatenate( (predictions, preds.cpu().numpy()) )"
      ],
      "metadata": {
        "id": "9ryH-t_Yalto"
      },
      "execution_count": 19,
      "outputs": []
    },
    {
      "cell_type": "code",
      "source": [
        "# Refernce for plotting confusion matrix for multiple classes\n",
        "# https://datascience.stackexchange.com/questions/40067/confusion-matrix-three-classes-python\n",
        "from sklearn.metrics import confusion_matrix\n",
        "\n",
        "def plot_confusion_matrix(cm, classes,\n",
        "                          normalize=False,\n",
        "                          title='Confusion matrix',\n",
        "                          cmap=plt.cm.Blues):\n",
        "    \"\"\"\n",
        "    This function prints and plots the confusion matrix.\n",
        "    Normalization can be applied by setting `normalize=True`.\n",
        "    \"\"\"\n",
        "    import itertools\n",
        "    if normalize:\n",
        "        cm = cm.astype('float') / cm.sum(axis=1)[:, np.newaxis]\n",
        "        print(\"Normalized confusion matrix\")\n",
        "    else:\n",
        "        print('Confusion matrix, without normalization')\n",
        "\n",
        "    print(cm)\n",
        "\n",
        "    plt.imshow(cm, interpolation='nearest', cmap=cmap)\n",
        "    plt.title(title)\n",
        "    plt.colorbar()\n",
        "    tick_marks = np.arange(len(classes))\n",
        "    plt.xticks(tick_marks, classes, rotation=45)\n",
        "    plt.yticks(tick_marks, classes)\n",
        "\n",
        "    fmt = '.2f' if normalize else 'd'\n",
        "    thresh = cm.max() / 2.\n",
        "    for i, j in itertools.product(range(cm.shape[0]), range(cm.shape[1])):\n",
        "        plt.text(j, i, format(cm[i, j], fmt),\n",
        "                 horizontalalignment=\"center\",\n",
        "                 color=\"white\" if cm[i, j] > thresh else \"black\")\n",
        "\n",
        "    plt.ylabel('True label')\n",
        "    plt.xlabel('Predicted label')\n",
        "    plt.tight_layout()\n",
        "\n",
        "\n",
        "y_true = testDataset.targets.numpy()\n",
        "y_pred = predictions\n",
        "\n",
        "classes = list( range(10) )\n",
        "cnf_matrix = confusion_matrix( y_true, y_pred, labels = classes )\n",
        "np.set_printoptions(precision=2)\n",
        "\n",
        "# Plot non-normalized confusion matrix\n",
        "plt.figure()\n",
        "plot_confusion_matrix(cnf_matrix, classes = classes,\n",
        "                      title='Confusion matrix, without normalization')"
      ],
      "metadata": {
        "colab": {
          "base_uri": "https://localhost:8080/",
          "height": 488
        },
        "id": "ZQ9kB_2UeQ_6",
        "outputId": "e91b9069-e5c7-46b4-e179-10e276bde6f1"
      },
      "execution_count": 20,
      "outputs": [
        {
          "output_type": "stream",
          "name": "stdout",
          "text": [
            "Confusion matrix, without normalization\n",
            "[[818   2  10  33   3   0 126   0   8   0]\n",
            " [  2 976   0  14   3   0   4   0   1   0]\n",
            " [ 15   1 803  11  75   1  94   0   0   0]\n",
            " [  8   8   9 921  26   0  28   0   0   0]\n",
            " [  1   2  53  26 836   0  81   0   1   0]\n",
            " [  0   0   0   1   0 967   0  25   0   7]\n",
            " [ 86   3  52  33  55   0 766   0   5   0]\n",
            " [  0   0   0   0   0   6   0 984   0  10]\n",
            " [  2   1   5   5   3   2  11   4 967   0]\n",
            " [  1   0   0   0   0   6   0  60   0 933]]\n"
          ]
        },
        {
          "output_type": "display_data",
          "data": {
            "text/plain": [
              "<Figure size 432x288 with 2 Axes>"
            ],
            "image/png": "[encoded data removed]"
          },
          "metadata": {
            "needs_background": "light"
          }
        }
      ]
    },
    {
      "cell_type": "code",
      "source": [
        "classes = '''T-shirt/top\n",
        "Trouser\n",
        "Pullover\n",
        "Dress\n",
        "Coat\n",
        "Sandal\n",
        "Shirt\n",
        "Sneaker\n",
        "Bag\n",
        "Ankle boot'''\n",
        "\n",
        "classes = classes.split(\"\\n\")"
      ],
      "metadata": {
        "id": "lxkRq0WUTnx4"
      },
      "execution_count": 21,
      "outputs": []
    },
    {
      "cell_type": "code",
      "source": [
        "# We can see that the model incorrectly classifies when the input images is 9 and model predicts 4\n",
        "misclassfied_samples = np.where( y_true != y_pred )[0]\n",
        "index = np.random.choice(misclassfied_samples)\n",
        "\n",
        "sampleInput = testDataset.data.numpy()[index]\n",
        "plt.imshow(sampleInput.reshape(28, 28), cmap = 'gray')\n",
        "plt.title(f\"True Label = {classes[ y_true[index] ]}, Predicted Label = {classes[ int(y_pred[index]) ]}\");"
      ],
      "metadata": {
        "colab": {
          "base_uri": "https://localhost:8080/",
          "height": 281
        },
        "id": "9FTqCqHCdC25",
        "outputId": "2cac3d4d-ce6b-4c78-c43f-67aebfc8d5bc"
      },
      "execution_count": 22,
      "outputs": [
        {
          "output_type": "display_data",
          "data": {
            "text/plain": [
              "<Figure size 432x288 with 1 Axes>"
            ],
            "image/png": "[encoded data removed]"
          },
          "metadata": {
            "needs_background": "light"
          }
        }
      ]
    },
    {
      "cell_type": "code",
      "source": [
        ""
      ],
      "metadata": {
        "id": "IBL62YVpgecM"
      },
      "execution_count": 22,
      "outputs": []
    }
  ]
}