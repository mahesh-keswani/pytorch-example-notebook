{
  "nbformat": 4,
  "nbformat_minor": 0,
  "metadata": {
    "colab": {
      "provenance": [],
      "authorship_tag": "ABX9TyMI6kOPmKjHHkDxgkHcbSr5",
      "include_colab_link": true
    },
    "kernelspec": {
      "name": "python3",
      "display_name": "Python 3"
    },
    "language_info": {
      "name": "python"
    }
  },
  "cells": [
    {
      "cell_type": "markdown",
      "metadata": {
        "id": "view-in-github",
        "colab_type": "text"
      },
      "source": [
        "<a href=\"https://colab.research.google.com/github/mahesh-keswani/pytorch-example-notebook/blob/main/13_Pytorch_Understanding_shapes_in_RNN.ipynb\" target=\"_parent\"><img src=\"https://colab.research.google.com/assets/colab-badge.svg\" alt=\"Open In Colab\"/></a>"
      ]
    },
    {
      "cell_type": "code",
      "execution_count": 1,
      "metadata": {
        "id": "9s5_jGR6uQhq"
      },
      "outputs": [],
      "source": [
        "import torch\n",
        "import torch.nn as nn\n",
        "import numpy as np\n",
        "import matplotlib.pyplot as plt"
      ]
    },
    {
      "cell_type": "code",
      "source": [
        "N = 1 # only single sample\n",
        "T = 10 # sequence length\n",
        "input_dimension = 1\n",
        "hidden_dimension = 5\n",
        "output_dimension = 2\n",
        "\n",
        "X = np.random.randn(N, T, input_dimension)"
      ],
      "metadata": {
        "id": "H-kZVM_sui6_"
      },
      "execution_count": 2,
      "outputs": []
    },
    {
      "cell_type": "code",
      "source": [
        "class SimpleRNN(nn.Module):\n",
        "    def __init__(self, input_dimension, hidden_dimension, output_dimension):\n",
        "        super(SimpleRNN, self).__init__()\n",
        "        self.rnn = nn.RNN(input_dimension, hidden_dimension, batch_first=True)\n",
        "        self.fc = nn.Linear(hidden_dimension, output_dimension)\n",
        "        # here we  are having only  single layer in rnn by default\n",
        "\n",
        "    def forward(self, x):\n",
        "        h0 = torch.zeros(1, x.size(0), hidden_dimension)\n",
        "        out, _ = self.rnn(x, h0)\n",
        "        print(f\"Output shape  from hidden unit {out.shape}\")\n",
        "\n",
        "        # passing the entire  out to fc, i.e we will get now output for every timestep\n",
        "        out = self.fc(out)\n",
        "        print(f\"Output shape  from linear unit {out.shape}\")\n",
        "        return out"
      ],
      "metadata": {
        "id": "UXNjgkQQvE_t"
      },
      "execution_count": 3,
      "outputs": []
    },
    {
      "cell_type": "code",
      "source": [
        "model = SimpleRNN(input_dimension, hidden_dimension, output_dimension)"
      ],
      "metadata": {
        "id": "y7V0iob9vsd2"
      },
      "execution_count": 4,
      "outputs": []
    },
    {
      "cell_type": "code",
      "source": [
        "inputs = torch.from_numpy(X.astype(np.float32))\n",
        "outputs = model(inputs)\n",
        "outputs"
      ],
      "metadata": {
        "colab": {
          "base_uri": "https://localhost:8080/"
        },
        "id": "tt3-2ch9vyb8",
        "outputId": "a38b9634-daf6-45dc-b3e5-762c3d740c53"
      },
      "execution_count": 5,
      "outputs": [
        {
          "output_type": "stream",
          "name": "stdout",
          "text": [
            "Output shape  from hidden unit torch.Size([1, 10, 5])\n",
            "Output shape  from linear unit torch.Size([1, 10, 2])\n"
          ]
        },
        {
          "output_type": "execute_result",
          "data": {
            "text/plain": [
              "tensor([[[-0.0581, -0.2801],\n",
              "         [-0.1343, -0.3343],\n",
              "         [-0.2036, -0.3577],\n",
              "         [-0.1521, -0.3276],\n",
              "         [-0.1256, -0.3063],\n",
              "         [-0.2171, -0.3509],\n",
              "         [-0.2122, -0.3553],\n",
              "         [-0.1598, -0.3237],\n",
              "         [-0.1526, -0.3176],\n",
              "         [-0.2319, -0.3584]]], grad_fn=<ViewBackward0>)"
            ]
          },
          "metadata": {},
          "execution_count": 5
        }
      ]
    },
    {
      "cell_type": "code",
      "source": [
        "# lets save outputs for later\n",
        "Yhats = outputs.detach().numpy()"
      ],
      "metadata": {
        "id": "J98KCcPrxSEL"
      },
      "execution_count": 6,
      "outputs": []
    },
    {
      "cell_type": "code",
      "source": [
        "Wxh, Whh, bxh, bhh = model.rnn.parameters()"
      ],
      "metadata": {
        "id": "GQ68rKDUyoRF"
      },
      "execution_count": 7,
      "outputs": []
    },
    {
      "cell_type": "code",
      "source": [
        "print(X.shape)\n",
        "print(Wxh.shape)\n",
        "print(bxh.shape)\n",
        "print(Whh.shape)\n",
        "print(bhh.shape)"
      ],
      "metadata": {
        "colab": {
          "base_uri": "https://localhost:8080/"
        },
        "id": "V01iPuD4yyuH",
        "outputId": "0b98953d-35da-468a-a212-1723c3357ff4"
      },
      "execution_count": 8,
      "outputs": [
        {
          "output_type": "stream",
          "name": "stdout",
          "text": [
            "(1, 10, 1)\n",
            "torch.Size([5, 1])\n",
            "torch.Size([5])\n",
            "torch.Size([5, 5])\n",
            "torch.Size([5])\n"
          ]
        }
      ]
    },
    {
      "cell_type": "code",
      "source": [
        "Wxh = Wxh.data.numpy()\n",
        "Whh = Whh.data.numpy()\n",
        "bxh = bxh.data.numpy()\n",
        "bhh = bhh.data.numpy()"
      ],
      "metadata": {
        "id": "6ajHq8xEzBBU"
      },
      "execution_count": 9,
      "outputs": []
    },
    {
      "cell_type": "code",
      "source": [
        "#lets also grab parameters of the output layer\n",
        "W, b = model.fc.parameters()\n",
        "W, b = W.data.numpy(), b.data.numpy()\n",
        "W.shape, b.shape"
      ],
      "metadata": {
        "colab": {
          "base_uri": "https://localhost:8080/"
        },
        "id": "pG60xzOZz0_Q",
        "outputId": "08c34798-e2fd-4742-85c2-7f6db58a2ea2"
      },
      "execution_count": 10,
      "outputs": [
        {
          "output_type": "execute_result",
          "data": {
            "text/plain": [
              "((2, 5), (2,))"
            ]
          },
          "metadata": {},
          "execution_count": 10
        }
      ]
    },
    {
      "cell_type": "code",
      "source": [
        "X.shape"
      ],
      "metadata": {
        "colab": {
          "base_uri": "https://localhost:8080/"
        },
        "id": "igmHdtUX2rWg",
        "outputId": "3cefeb93-ec6e-48bc-807c-59ad66351f9b"
      },
      "execution_count": 11,
      "outputs": [
        {
          "output_type": "execute_result",
          "data": {
            "text/plain": [
              "(1, 10, 1)"
            ]
          },
          "metadata": {},
          "execution_count": 11
        }
      ]
    },
    {
      "cell_type": "code",
      "source": [
        "# lets see if we can replicate the output using manual calculations\n",
        "h_last = np.zeros(hidden_dimension)\n",
        "X = X[0] # we  will work with single sample only,therefore  X is (10,1) now\n",
        "Yhats_manual = np.zeros((T, output_dimension))\n",
        "\n",
        "for t in range(T):\n",
        "    # X[t] is (1, 1). Wxh is (5,1), therefore X[t].Wxh is (5,1)+bxh = (5,1)\n",
        "    # h_last is (5,1), Whh is (5,5),therefore Whh.h_last is (5,1)\n",
        "    h_next = np.tanh(X[t].dot(Wxh.T) + h_last.dot(Whh.T) + bxh)\n",
        "\n",
        "    Yhats_manual[t] = np.dot(h_next, W.T) + b\n",
        "    h_last = h_next"
      ],
      "metadata": {
        "id": "0WHL1TLa0MM9"
      },
      "execution_count": 12,
      "outputs": []
    },
    {
      "cell_type": "code",
      "source": [
        "Yhats"
      ],
      "metadata": {
        "colab": {
          "base_uri": "https://localhost:8080/"
        },
        "id": "kUgw_WwJ3Ioe",
        "outputId": "41713b40-ef42-4aa4-91e2-f64dbe1404f6"
      },
      "execution_count": 13,
      "outputs": [
        {
          "output_type": "execute_result",
          "data": {
            "text/plain": [
              "array([[[-0.05807926, -0.2801122 ],\n",
              "        [-0.1342808 , -0.33428547],\n",
              "        [-0.203589  , -0.35774437],\n",
              "        [-0.1521302 , -0.32757244],\n",
              "        [-0.12563804, -0.3062835 ],\n",
              "        [-0.21710108, -0.35088778],\n",
              "        [-0.2122352 , -0.35530427],\n",
              "        [-0.1597626 , -0.32368603],\n",
              "        [-0.15259574, -0.31762537],\n",
              "        [-0.23187415, -0.35836193]]], dtype=float32)"
            ]
          },
          "metadata": {},
          "execution_count": 13
        }
      ]
    },
    {
      "cell_type": "code",
      "source": [
        "Yhats_manual"
      ],
      "metadata": {
        "colab": {
          "base_uri": "https://localhost:8080/"
        },
        "id": "eXyh5od_3MB_",
        "outputId": "23254681-d0b7-40e4-e223-33e14ba1b2e9"
      },
      "execution_count": 14,
      "outputs": [
        {
          "output_type": "execute_result",
          "data": {
            "text/plain": [
              "array([[ 0.05203359, -0.38844685],\n",
              "       [ 0.06049624, -0.41301386],\n",
              "       [ 0.00201575, -0.45323665],\n",
              "       [ 0.06425441, -0.42201359],\n",
              "       [ 0.09402765, -0.4060147 ],\n",
              "       [-0.00361719, -0.45334501],\n",
              "       [-0.00809015, -0.46341526],\n",
              "       [ 0.04823504, -0.42915469],\n",
              "       [ 0.05922465, -0.42226637],\n",
              "       [-0.02817548, -0.46625672]])"
            ]
          },
          "metadata": {},
          "execution_count": 14
        }
      ]
    },
    {
      "cell_type": "code",
      "source": [
        "# check if rnn output and manual calculation values are all close\n",
        "np.allclose(Yhats, Yhats_manual)"
      ],
      "metadata": {
        "colab": {
          "base_uri": "https://localhost:8080/"
        },
        "id": "Y7Sq0vJI1rvD",
        "outputId": "333b9e6e-1046-479f-88e1-42efea32f295"
      },
      "execution_count": 15,
      "outputs": [
        {
          "output_type": "execute_result",
          "data": {
            "text/plain": [
              "False"
            ]
          },
          "metadata": {},
          "execution_count": 15
        }
      ]
    },
    {
      "cell_type": "code",
      "source": [],
      "metadata": {
        "id": "j6kigo5U3G6v"
      },
      "execution_count": 15,
      "outputs": []
    }
  ]
}