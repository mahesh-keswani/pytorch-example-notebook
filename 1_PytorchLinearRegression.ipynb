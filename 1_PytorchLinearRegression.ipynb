{
  "nbformat": 4,
  "nbformat_minor": 0,
  "metadata": {
    "colab": {
      "name": "1_PytorchLinearRegression.ipynb",
      "provenance": [],
      "collapsed_sections": [],
      "authorship_tag": "ABX9TyPuMdwa+WnKKVjvJvpp8bdQ",
      "include_colab_link": true
    },
    "kernelspec": {
      "name": "python3",
      "display_name": "Python 3"
    },
    "language_info": {
      "name": "python"
    }
  },
  "cells": [
    {
      "cell_type": "markdown",
      "metadata": {
        "id": "view-in-github",
        "colab_type": "text"
      },
      "source": [
        "<a href=\"https://colab.research.google.com/github/mahesh-keswani/pytorch-example-notebook/blob/main/1_PytorchLinearRegression.ipynb\" target=\"_parent\"><img src=\"https://colab.research.google.com/assets/colab-badge.svg\" alt=\"Open In Colab\"/></a>"
      ]
    },
    {
      "cell_type": "code",
      "execution_count": 1,
      "metadata": {
        "id": "DwhUwy2K4Tdj"
      },
      "outputs": [],
      "source": [
        "import torch\n",
        "import torch.nn as nn\n",
        "import numpy as np\n",
        "import matplotlib.pyplot as plt"
      ]
    },
    {
      "cell_type": "code",
      "source": [
        "# lets generate data first\n",
        "\n",
        "# 20 sample points\n",
        "N = 30\n",
        "\n",
        "# uniformly distributed data with range [-5, 5]\n",
        "X = np.random.random(N) * 10 - 5\n",
        "\n",
        "# gaussian noise centered around 0 with variance of 0.5\n",
        "gaussianNoise = np.random.randn(N) * 0.5\n",
        "\n",
        "# our Y\n",
        "trueSlope = 1\n",
        "trueIntercept = -1\n",
        "Y = trueSlope * X + trueIntercept + gaussianNoise "
      ],
      "metadata": {
        "id": "ek_JuSnU4mI6"
      },
      "execution_count": 2,
      "outputs": []
    },
    {
      "cell_type": "code",
      "source": [
        "plt.scatter(X, Y);"
      ],
      "metadata": {
        "colab": {
          "base_uri": "https://localhost:8080/",
          "height": 265
        },
        "id": "Ebx1gKNlP6TQ",
        "outputId": "637a1c7b-03a5-48ab-b272-043aaacf1d1e"
      },
      "execution_count": 3,
      "outputs": [
        {
          "output_type": "display_data",
          "data": {
            "text/plain": [
              "<Figure size 432x288 with 1 Axes>"
            ],
            "image/png": "[encoded data removed]"
          },
          "metadata": {
            "needs_background": "light"
          }
        }
      ]
    },
    {
      "cell_type": "code",
      "source": [
        "# Say you had the data as (X,Y) which are numpy arrays, but pytorch doesn't work with numpy arrays, it works with Torch Tensors,\n",
        "# so some conversion has to take place before feeding the data.\n",
        "# Also, By default, pytorch creates your variables as float32, but numpy creates it as float64 as by-default.\n",
        "X = X.reshape(N, 1)\n",
        "Y = Y.reshape(N, 1)\n",
        "\n",
        "inputs = torch.from_numpy(X.astype(np.float32))\n",
        "targets = torch.from_numpy(Y.astype(np.float32))"
      ],
      "metadata": {
        "id": "M8OTOg7aP8pZ"
      },
      "execution_count": 4,
      "outputs": []
    },
    {
      "cell_type": "code",
      "source": [
        "# Now lets create linear model\n",
        "#               input_features, output_dim\n",
        "model = nn.Linear(1, 1)"
      ],
      "metadata": {
        "id": "nnUDkj00QyEg"
      },
      "execution_count": 5,
      "outputs": []
    },
    {
      "cell_type": "code",
      "source": [
        "criterion = nn.MSELoss()\n",
        "optimizer = torch.optim.SGD( model.parameters(), lr = 0.1 )"
      ],
      "metadata": {
        "id": "KaLQ8PbtSEmt"
      },
      "execution_count": 6,
      "outputs": []
    },
    {
      "cell_type": "code",
      "source": [
        "# Now we have model, loss, optimizer and data\n",
        "# Now we are ready for training loop.\n",
        "\n",
        "EPOCHS = 30\n",
        "losses = []\n",
        "for i in range(EPOCHS):\n",
        "    # pytorch accumulates the gradients during backpropagation, (we will cover this in-more depth in future notebooks)\n",
        "    optimizer.zero_grad()\n",
        "\n",
        "    # even though model is an object of nn.Linear, we can call it as a function.\n",
        "    # As model expects the data in Torch Tensor format, it also returns the Torch Tensor and not numpy arrays\n",
        "    outputs = model(inputs)\n",
        "\n",
        "    # again, the criterion is an object, but we are using it like a function\n",
        "    loss = criterion(outputs, targets)\n",
        "\n",
        "    # if you want something from pytorch which is single number and not an array (like loss in single epoch), \n",
        "    # then you should use .item() function.\n",
        "    # But if you want something from pytorch which is an array (like outputs from model) in the numpy format\n",
        "    # outputs = model(inputs).detach().numpy()\n",
        "    # detach from graph first and then convert it to numpy array\n",
        "\n",
        "    losses.append( loss.item() )\n",
        "\n",
        "    # this actually calculates the gradients\n",
        "    loss.backward()\n",
        "\n",
        "    # this actually updates the parameters\n",
        "    optimizer.step()\n",
        "\n",
        "    print(f\"Epoch {i + 1}/{EPOCHS}, Loss {loss.item()}\")"
      ],
      "metadata": {
        "colab": {
          "base_uri": "https://localhost:8080/"
        },
        "id": "aC-9ZSTaSQ-Y",
        "outputId": "a4189729-5f42-4fda-aa16-7ada2a2a1491"
      },
      "execution_count": 7,
      "outputs": [
        {
          "output_type": "stream",
          "name": "stdout",
          "text": [
            "Epoch 1/30, Loss 4.515284061431885\n",
            "Epoch 2/30, Loss 2.878399133682251\n",
            "Epoch 3/30, Loss 1.886596441268921\n",
            "Epoch 4/30, Loss 1.2804961204528809\n",
            "Epoch 5/30, Loss 0.9071716666221619\n",
            "Epoch 6/30, Loss 0.67557293176651\n",
            "Epoch 7/30, Loss 0.5309726595878601\n",
            "Epoch 8/30, Loss 0.4401784837245941\n",
            "Epoch 9/30, Loss 0.38288649916648865\n",
            "Epoch 10/30, Loss 0.34657958149909973\n",
            "Epoch 11/30, Loss 0.3234867751598358\n",
            "Epoch 12/30, Loss 0.3087528645992279\n",
            "Epoch 13/30, Loss 0.29932722449302673\n",
            "Epoch 14/30, Loss 0.29328399896621704\n",
            "Epoch 15/30, Loss 0.2894022762775421\n",
            "Epoch 16/30, Loss 0.2869049310684204\n",
            "Epoch 17/30, Loss 0.285296231508255\n",
            "Epoch 18/30, Loss 0.2842588424682617\n",
            "Epoch 19/30, Loss 0.28358927369117737\n",
            "Epoch 20/30, Loss 0.28315678238868713\n",
            "Epoch 21/30, Loss 0.2828773260116577\n",
            "Epoch 22/30, Loss 0.2826964557170868\n",
            "Epoch 23/30, Loss 0.282579630613327\n",
            "Epoch 24/30, Loss 0.28250396251678467\n",
            "Epoch 25/30, Loss 0.2824549674987793\n",
            "Epoch 26/30, Loss 0.2824232876300812\n",
            "Epoch 27/30, Loss 0.28240278363227844\n",
            "Epoch 28/30, Loss 0.28238946199417114\n",
            "Epoch 29/30, Loss 0.2823808491230011\n",
            "Epoch 30/30, Loss 0.2823752760887146\n"
          ]
        }
      ]
    },
    {
      "cell_type": "code",
      "source": [
        "plt.xlabel(\"Epoch #\")\n",
        "plt.ylabel(\"Loss\")\n",
        "plt.plot(losses);"
      ],
      "metadata": {
        "colab": {
          "base_uri": "https://localhost:8080/",
          "height": 279
        },
        "id": "sWlPsQJAUjTZ",
        "outputId": "26fca2e4-4553-403b-dbeb-bbb134a8c345"
      },
      "execution_count": 10,
      "outputs": [
        {
          "output_type": "display_data",
          "data": {
            "text/plain": [
              "<Figure size 432x288 with 1 Axes>"
            ],
            "image/png": "[encoded data removed]"
          },
          "metadata": {
            "needs_background": "light"
          }
        }
      ]
    },
    {
      "cell_type": "code",
      "source": [
        "# Now inorder to make predictions\n",
        "predictions = model(inputs).detach().numpy()\n",
        "\n",
        "# Now lets use these predictions in-order to see the approximation of best-fit line\n",
        "plt.scatter(X, Y, label = \"Original Data\")\n",
        "plt.plot(X, predictions, label = \"Best Fit Line\")\n",
        "plt.legend();"
      ],
      "metadata": {
        "colab": {
          "base_uri": "https://localhost:8080/",
          "height": 265
        },
        "id": "xUEV2xNfUn3L",
        "outputId": "aeaa147a-854f-4730-c8fc-6a2131750e9e"
      },
      "execution_count": 11,
      "outputs": [
        {
          "output_type": "display_data",
          "data": {
            "text/plain": [
              "<Figure size 432x288 with 1 Axes>"
            ],
            "image/png": "[encoded data removed]"
          },
          "metadata": {
            "needs_background": "light"
          }
        }
      ]
    },
    {
      "cell_type": "code",
      "source": [
        "# The other way to get the numpy array from the pytorch\n",
        "with torch.no_grad():\n",
        "    predictions = model(inputs).numpy()\n",
        "\n",
        "print(predictions)"
      ],
      "metadata": {
        "colab": {
          "base_uri": "https://localhost:8080/"
        },
        "id": "_MYR5VYTVZVM",
        "outputId": "20c41757-ba86-4b51-e013-288237dcced9"
      },
      "execution_count": 12,
      "outputs": [
        {
          "output_type": "stream",
          "name": "stdout",
          "text": [
            "[[ 1.2911712 ]\n",
            " [-5.4215074 ]\n",
            " [ 2.826068  ]\n",
            " [ 3.6276474 ]\n",
            " [ 1.8372675 ]\n",
            " [-0.90827703]\n",
            " [ 3.9815922 ]\n",
            " [-0.23265588]\n",
            " [-0.58691424]\n",
            " [-0.03206247]\n",
            " [-2.443985  ]\n",
            " [ 0.63529396]\n",
            " [-0.3509506 ]\n",
            " [ 2.1657696 ]\n",
            " [-3.2406979 ]\n",
            " [-1.3630816 ]\n",
            " [ 0.1892004 ]\n",
            " [-2.738169  ]\n",
            " [-5.316417  ]\n",
            " [ 1.8167914 ]\n",
            " [ 1.5238501 ]\n",
            " [ 0.92228484]\n",
            " [-2.1306553 ]\n",
            " [-5.5717444 ]\n",
            " [-4.156907  ]\n",
            " [ 3.3524466 ]\n",
            " [ 2.7394576 ]\n",
            " [ 1.2735621 ]\n",
            " [ 0.54204834]\n",
            " [-5.235377  ]]\n"
          ]
        }
      ]
    },
    {
      "cell_type": "code",
      "source": [
        "# Now lets check the actual weight and bias of the model\n",
        "predictedSlope = model.weight.data.numpy()\n",
        "predictedIntercept = model.bias.data.numpy()\n",
        "\n",
        "print(\"True slope and true intercept\")\n",
        "print(trueSlope, trueIntercept)\n",
        "\n",
        "print(\"=\" * 30)\n",
        "\n",
        "print(\"Predicted slope and predicted intercept\")\n",
        "print(predictedSlope, predictedIntercept)"
      ],
      "metadata": {
        "colab": {
          "base_uri": "https://localhost:8080/"
        },
        "id": "U-gnjcUaVzoO",
        "outputId": "8a9be5ed-484f-432d-98d4-f644bffc86ec"
      },
      "execution_count": 13,
      "outputs": [
        {
          "output_type": "stream",
          "name": "stdout",
          "text": [
            "True slope and true intercept\n",
            "1 -1\n",
            "==============================\n",
            "Predicted slope and predicted intercept\n",
            "[[0.96497655]] [-0.791114]\n"
          ]
        }
      ]
    },
    {
      "cell_type": "code",
      "source": [
        ""
      ],
      "metadata": {
        "id": "Hi2cIgmTWdIO"
      },
      "execution_count": null,
      "outputs": []
    }
  ]
}