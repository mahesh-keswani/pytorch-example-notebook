{
  "nbformat": 4,
  "nbformat_minor": 0,
  "metadata": {
    "colab": {
      "name": "6_PyTorchCustomModels.ipynb",
      "provenance": [],
      "authorship_tag": "ABX9TyMfZbTxedYT3YBKWk6h+Pj7",
      "include_colab_link": true
    },
    "kernelspec": {
      "name": "python3",
      "display_name": "Python 3"
    },
    "language_info": {
      "name": "python"
    }
  },
  "cells": [
    {
      "cell_type": "markdown",
      "metadata": {
        "id": "view-in-github",
        "colab_type": "text"
      },
      "source": [
        "<a href=\"https://colab.research.google.com/github/mahesh-keswani/pytorch-example-notebook/blob/main/6_PyTorchCustomModels.ipynb\" target=\"_parent\"><img src=\"https://colab.research.google.com/assets/colab-badge.svg\" alt=\"Open In Colab\"/></a>"
      ]
    },
    {
      "cell_type": "code",
      "execution_count": 1,
      "metadata": {
        "id": "x_pbE0wk4iL2"
      },
      "outputs": [],
      "source": [
        "import torch\n",
        "import torch.nn as nn\n",
        "import numpy as np\n",
        "import matplotlib.pyplot as plt"
      ]
    },
    {
      "cell_type": "code",
      "source": [
        "N = 1000\n",
        "X = np.random.random( (N, 2) ) * 10 - 5\n",
        "Y = np.sin(2 * X[:, 0]) + np.cos(3 * X[:, 1]) + np.random.randn(N) * 0.5\n",
        "# y = sin(2x1) + cos(3x2) + gaussian_noise_with_variance_0.5"
      ],
      "metadata": {
        "id": "LfWEzAlz4xVG"
      },
      "execution_count": 2,
      "outputs": []
    },
    {
      "cell_type": "code",
      "source": [
        "inputs = torch.from_numpy( X.astype(np.float32) )\n",
        "targets = torch.from_numpy( Y.astype(np.float32).reshape(N, -1) )"
      ],
      "metadata": {
        "id": "AN9plN0u5pL0"
      },
      "execution_count": 3,
      "outputs": []
    },
    {
      "cell_type": "code",
      "source": [
        "# Lets start with Sequential Module first\n",
        "sequential = nn.Sequential(\n",
        "    nn.Linear(2, 128),\n",
        "    nn.ReLU(),\n",
        "    nn.Linear(128, 1)\n",
        ")\n",
        "\n",
        "criterion = nn.MSELoss()\n",
        "optimizer = torch.optim.Adam( sequential.parameters(), lr = 0.001 )\n",
        "\n",
        "EPOCHS = 1000\n",
        "losses = np.zeros(EPOCHS)\n",
        "for epoch in range(EPOCHS):\n",
        "    optimizer.zero_grad()\n",
        "    outputs = sequential( inputs )\n",
        "    loss = criterion( outputs, targets )\n",
        "    losses[epoch] = loss.item()\n",
        "\n",
        "    loss.backward()\n",
        "    optimizer.step()\n",
        "\n",
        "    if (epoch + 1) % 100 == 0:\n",
        "        print(f\"Epoch = {epoch + 1}/{EPOCHS}, Loss = {loss.item()}\")"
      ],
      "metadata": {
        "colab": {
          "base_uri": "https://localhost:8080/"
        },
        "id": "Y4rhFH995Lu8",
        "outputId": "d22763d8-4dff-473d-bd5b-a8aa36809359"
      },
      "execution_count": 4,
      "outputs": [
        {
          "output_type": "stream",
          "name": "stdout",
          "text": [
            "Epoch = 100/1000, Loss = 1.175911784172058\n",
            "Epoch = 200/1000, Loss = 1.158880352973938\n",
            "Epoch = 300/1000, Loss = 1.1416081190109253\n",
            "Epoch = 400/1000, Loss = 1.1192865371704102\n",
            "Epoch = 500/1000, Loss = 1.0914572477340698\n",
            "Epoch = 600/1000, Loss = 1.0563119649887085\n",
            "Epoch = 700/1000, Loss = 1.0163984298706055\n",
            "Epoch = 800/1000, Loss = 0.9727374315261841\n",
            "Epoch = 900/1000, Loss = 0.9316060543060303\n",
            "Epoch = 1000/1000, Loss = 0.8948610424995422\n"
          ]
        }
      ]
    },
    {
      "cell_type": "code",
      "source": [
        "# nn.Module is the base class that all other modules inherit from\n",
        "# e.g nn.Linear inherits from nn.Module (it is a module)\n",
        "# nn.ReLU inherits from nn.Module (it is a module)\n",
        "# Also, nn.Sequential inherits from nn.Module (it is a module of modules)\n",
        "# (we can also have module of modules of modules)\n",
        "# even though the Sequential acts a wrapper of list of Modules, it is itself a Module.\n",
        "# This implies that our custom models will also inherit from Module class.\n",
        "class ANN(nn.Module):\n",
        "    def __init__(self):\n",
        "        super(ANN, self).__init__()\n",
        "        # Note the architecture is same as the above model\n",
        "        self.layer1 = nn.Linear(2, 128)\n",
        "        self.layer2 = nn.ReLU()\n",
        "        self.layer3 = nn.Linear(128, 1)\n",
        "    \n",
        "    def forward(self, x):\n",
        "        x = self.layer1(x)\n",
        "        x = self.layer2(x)\n",
        "        x = self.layer3(x)\n",
        "        return x\n",
        "\n",
        "criterion = nn.MSELoss()\n",
        "customANN = ANN()\n",
        "optimizer = torch.optim.Adam( customANN.parameters(), lr = 0.001 )\n",
        "\n",
        "EPOCHS = 1000\n",
        "custom_losses = np.zeros(EPOCHS)\n",
        "for epoch in range(EPOCHS):\n",
        "    optimizer.zero_grad()\n",
        "    outputs = customANN( inputs )\n",
        "    loss = criterion( outputs, targets )\n",
        "    custom_losses[epoch] = loss.item()\n",
        "\n",
        "    loss.backward()\n",
        "    optimizer.step()\n",
        "\n",
        "    if (epoch + 1) % 100 == 0:\n",
        "        print(f\"Epoch = {epoch + 1}/{EPOCHS}, Loss = {loss.item()}\")"
      ],
      "metadata": {
        "colab": {
          "base_uri": "https://localhost:8080/"
        },
        "id": "0juUSzdW67qs",
        "outputId": "9523624b-9f95-4c17-d1b7-059908131a99"
      },
      "execution_count": 5,
      "outputs": [
        {
          "output_type": "stream",
          "name": "stdout",
          "text": [
            "Epoch = 100/1000, Loss = 1.178771734237671\n",
            "Epoch = 200/1000, Loss = 1.1579054594039917\n",
            "Epoch = 300/1000, Loss = 1.1402301788330078\n",
            "Epoch = 400/1000, Loss = 1.1195522546768188\n",
            "Epoch = 500/1000, Loss = 1.0915724039077759\n",
            "Epoch = 600/1000, Loss = 1.0565627813339233\n",
            "Epoch = 700/1000, Loss = 1.0160218477249146\n",
            "Epoch = 800/1000, Loss = 0.9732643961906433\n",
            "Epoch = 900/1000, Loss = 0.9323504567146301\n",
            "Epoch = 1000/1000, Loss = 0.8955215811729431\n"
          ]
        }
      ]
    },
    {
      "cell_type": "code",
      "source": [
        "plt.xlabel(\"Epoch #\")\n",
        "plt.ylabel(\"Loss\")\n",
        "plt.plot(losses, label = \"Using Sequential Module\")\n",
        "plt.plot(custom_losses, label = \"Using Custom Module\")\n",
        "plt.legend();"
      ],
      "metadata": {
        "colab": {
          "base_uri": "https://localhost:8080/",
          "height": 279
        },
        "id": "zLLV_Mfy6dtT",
        "outputId": "ff39d3c6-cb4f-4f8d-d3ab-1dab6d00c4e7"
      },
      "execution_count": 6,
      "outputs": [
        {
          "output_type": "display_data",
          "data": {
            "text/plain": [
              "<Figure size 432x288 with 1 Axes>"
            ],
            "image/png": "[encoded data removed]"
          },
          "metadata": {
            "needs_background": "light"
          }
        }
      ]
    },
    {
      "cell_type": "code",
      "source": [
        "# Should have done some seeding first, but okay :D"
      ],
      "metadata": {
        "id": "fjLGrTcI8q9Q"
      },
      "execution_count": 7,
      "outputs": []
    }
  ]
}