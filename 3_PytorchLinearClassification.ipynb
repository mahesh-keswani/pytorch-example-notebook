{
  "nbformat": 4,
  "nbformat_minor": 0,
  "metadata": {
    "colab": {
      "name": "3_PytorchLinearClassification.ipynb",
      "provenance": [],
      "authorship_tag": "ABX9TyMsSSlR9F250bBSKSG9lgRE",
      "include_colab_link": true
    },
    "kernelspec": {
      "name": "python3",
      "display_name": "Python 3"
    },
    "language_info": {
      "name": "python"
    }
  },
  "cells": [
    {
      "cell_type": "markdown",
      "metadata": {
        "id": "view-in-github",
        "colab_type": "text"
      },
      "source": [
        "<a href=\"https://colab.research.google.com/github/mahesh-keswani/pytorch-example-notebook/blob/main/3_PytorchLinearClassification.ipynb\" target=\"_parent\"><img src=\"https://colab.research.google.com/assets/colab-badge.svg\" alt=\"Open In Colab\"/></a>"
      ]
    },
    {
      "cell_type": "code",
      "execution_count": 1,
      "metadata": {
        "id": "eBLPauBwb1Oq"
      },
      "outputs": [],
      "source": [
        "import torch\n",
        "import torch.nn as nn\n",
        "import numpy as np\n",
        "import matplotlib.pyplot as plt\n",
        "from sklearn.datasets import load_breast_cancer\n",
        "from sklearn.model_selection import train_test_split"
      ]
    },
    {
      "cell_type": "code",
      "source": [
        "# This returns the Bunch object, but we can treat it as python dictionary\n",
        "data = load_breast_cancer()\n",
        "data.keys()"
      ],
      "metadata": {
        "colab": {
          "base_uri": "https://localhost:8080/"
        },
        "id": "e5HtAyoTcMal",
        "outputId": "e1f3f828-d779-4612-c138-2ba040059bbe"
      },
      "execution_count": 2,
      "outputs": [
        {
          "output_type": "execute_result",
          "data": {
            "text/plain": [
              "dict_keys(['data', 'target', 'frame', 'target_names', 'DESCR', 'feature_names', 'filename', 'data_module'])"
            ]
          },
          "metadata": {},
          "execution_count": 2
        }
      ]
    },
    {
      "cell_type": "code",
      "source": [
        "X = data.data\n",
        "Y = data.target.reshape(-1, 1) # Array of zero's and one's\n",
        "print(X.shape, Y.shape)"
      ],
      "metadata": {
        "colab": {
          "base_uri": "https://localhost:8080/"
        },
        "id": "GdVBkKz2cXgt",
        "outputId": "13036210-deb8-4a6e-ba05-4aa8e5530251"
      },
      "execution_count": 3,
      "outputs": [
        {
          "output_type": "stream",
          "name": "stdout",
          "text": [
            "(569, 30) (569, 1)\n"
          ]
        }
      ]
    },
    {
      "cell_type": "code",
      "source": [
        "# The two classes which we are trying to classify\n",
        "data.target_names"
      ],
      "metadata": {
        "colab": {
          "base_uri": "https://localhost:8080/"
        },
        "id": "b-L_frv0cg7Z",
        "outputId": "c600102f-731b-47ca-db48-419f479624cd"
      },
      "execution_count": 4,
      "outputs": [
        {
          "output_type": "execute_result",
          "data": {
            "text/plain": [
              "array(['malignant', 'benign'], dtype='<U9')"
            ]
          },
          "metadata": {},
          "execution_count": 4
        }
      ]
    },
    {
      "cell_type": "code",
      "source": [
        "data.feature_names"
      ],
      "metadata": {
        "colab": {
          "base_uri": "https://localhost:8080/"
        },
        "id": "R5u-8jcGcqOK",
        "outputId": "c6585c12-a9d7-4138-9cf1-bd34f36f5bdb"
      },
      "execution_count": 5,
      "outputs": [
        {
          "output_type": "execute_result",
          "data": {
            "text/plain": [
              "array(['mean radius', 'mean texture', 'mean perimeter', 'mean area',\n",
              "       'mean smoothness', 'mean compactness', 'mean concavity',\n",
              "       'mean concave points', 'mean symmetry', 'mean fractal dimension',\n",
              "       'radius error', 'texture error', 'perimeter error', 'area error',\n",
              "       'smoothness error', 'compactness error', 'concavity error',\n",
              "       'concave points error', 'symmetry error',\n",
              "       'fractal dimension error', 'worst radius', 'worst texture',\n",
              "       'worst perimeter', 'worst area', 'worst smoothness',\n",
              "       'worst compactness', 'worst concavity', 'worst concave points',\n",
              "       'worst symmetry', 'worst fractal dimension'], dtype='<U23')"
            ]
          },
          "metadata": {},
          "execution_count": 5
        }
      ]
    },
    {
      "cell_type": "code",
      "source": [
        "X_train, X_test, Y_train, Y_test = train_test_split(X, Y, test_size = 0.2)"
      ],
      "metadata": {
        "id": "Xhr5KugTc8ey"
      },
      "execution_count": 6,
      "outputs": []
    },
    {
      "cell_type": "code",
      "source": [
        "from sklearn.preprocessing import StandardScaler\n",
        "\n",
        "sc = StandardScaler()\n",
        "X_train = sc.fit_transform(X_train)\n",
        "X_test = sc.transform(X_test)"
      ],
      "metadata": {
        "id": "NtHnc5Ancyo0"
      },
      "execution_count": 7,
      "outputs": []
    },
    {
      "cell_type": "code",
      "source": [
        "X_train = torch.from_numpy( X_train.astype(np.float32) )\n",
        "X_test = torch.from_numpy( X_test.astype(np.float32) )\n",
        "Y_train = torch.from_numpy( Y_train.astype(np.float32) )\n",
        "Y_test = torch.from_numpy( Y_test.astype(np.float32) )"
      ],
      "metadata": {
        "id": "Pm-FeN28dRcE"
      },
      "execution_count": 8,
      "outputs": []
    },
    {
      "cell_type": "code",
      "source": [
        "N, D = X_train.shape"
      ],
      "metadata": {
        "id": "rsY_wkBueA0k"
      },
      "execution_count": 9,
      "outputs": []
    },
    {
      "cell_type": "code",
      "source": [
        "model = nn.Sequential(\n",
        "    nn.Linear(D, 1),\n",
        "    nn.Sigmoid()\n",
        ")\n",
        "\n",
        "criterion = nn.BCELoss()\n",
        "optimizer = torch.optim.Adam( model.parameters() )"
      ],
      "metadata": {
        "id": "I1_bJ0Nhd6XW"
      },
      "execution_count": 10,
      "outputs": []
    },
    {
      "cell_type": "code",
      "source": [
        "EPOCHS = 1000\n",
        "train_losses = []\n",
        "test_losses = []\n",
        "\n",
        "for i in range(EPOCHS):\n",
        "    optimizer.zero_grad()\n",
        "\n",
        "    outputs = model(X_train)\n",
        "    loss = criterion(outputs, Y_train)\n",
        "    train_losses.append( loss.item() )\n",
        "\n",
        "    loss.backward()\n",
        "    optimizer.step()\n",
        "\n",
        "    test_predictions = model(X_test)\n",
        "    test_loss = criterion(test_predictions, Y_test)\n",
        "    test_losses.append(test_loss.item())\n",
        "\n",
        "    if (i + 1) % 50 == 0:\n",
        "        print(f\"Epoch: {i + 1}/{EPOCHS}, Train_loss: {loss.item()}, Test_loss: {test_loss.item()}\")"
      ],
      "metadata": {
        "colab": {
          "base_uri": "https://localhost:8080/"
        },
        "id": "ttk0wA37dkNm",
        "outputId": "1a8d177a-c50d-40e0-e0e8-38434b5bbb8f"
      },
      "execution_count": 11,
      "outputs": [
        {
          "output_type": "stream",
          "name": "stdout",
          "text": [
            "Epoch: 50/1000, Train_loss: 0.5905590057373047, Test_loss: 0.5695631504058838\n",
            "Epoch: 100/1000, Train_loss: 0.41297104954719543, Test_loss: 0.39804568886756897\n",
            "Epoch: 150/1000, Train_loss: 0.32610654830932617, Test_loss: 0.3160536587238312\n",
            "Epoch: 200/1000, Train_loss: 0.2743852138519287, Test_loss: 0.26791656017303467\n",
            "Epoch: 250/1000, Train_loss: 0.23940499126911163, Test_loss: 0.23564623296260834\n",
            "Epoch: 300/1000, Train_loss: 0.21383345127105713, Test_loss: 0.21214377880096436\n",
            "Epoch: 350/1000, Train_loss: 0.1942012459039688, Test_loss: 0.19409970939159393\n",
            "Epoch: 400/1000, Train_loss: 0.1786307990550995, Test_loss: 0.17975202202796936\n",
            "Epoch: 450/1000, Train_loss: 0.1659904420375824, Test_loss: 0.16805467009544373\n",
            "Epoch: 500/1000, Train_loss: 0.155540332198143, Test_loss: 0.15833184123039246\n",
            "Epoch: 550/1000, Train_loss: 0.14676906168460846, Test_loss: 0.15011949837207794\n",
            "Epoch: 600/1000, Train_loss: 0.1393098086118698, Test_loss: 0.14308619499206543\n",
            "Epoch: 650/1000, Train_loss: 0.1328926384449005, Test_loss: 0.13698865473270416\n",
            "Epoch: 700/1000, Train_loss: 0.1273149996995926, Test_loss: 0.13164487481117249\n",
            "Epoch: 750/1000, Train_loss: 0.12242240458726883, Test_loss: 0.12691640853881836\n",
            "Epoch: 800/1000, Train_loss: 0.1180952712893486, Test_loss: 0.12269644439220428\n",
            "Epoch: 850/1000, Train_loss: 0.11423978954553604, Test_loss: 0.11890152096748352\n",
            "Epoch: 900/1000, Train_loss: 0.11078149080276489, Test_loss: 0.11546550691127777\n",
            "Epoch: 950/1000, Train_loss: 0.10766053199768066, Test_loss: 0.11233556270599365\n",
            "Epoch: 1000/1000, Train_loss: 0.10482842475175858, Test_loss: 0.10946893692016602\n"
          ]
        }
      ]
    },
    {
      "cell_type": "code",
      "source": [
        "plt.plot(train_losses, label = \"Train Loss\")\n",
        "plt.plot(test_losses, label = \"Test Loss\")\n",
        "plt.legend();"
      ],
      "metadata": {
        "colab": {
          "base_uri": "https://localhost:8080/",
          "height": 268
        },
        "id": "CQ2RNFDxf47b",
        "outputId": "ceb4bdf9-ff84-479e-9aa3-49f0e18eeda5"
      },
      "execution_count": 12,
      "outputs": [
        {
          "output_type": "display_data",
          "data": {
            "text/plain": [
              "<Figure size 432x288 with 1 Axes>"
            ],
            "image/png": "[encoded data removed]"
          },
          "metadata": {
            "needs_background": "light"
          }
        }
      ]
    },
    {
      "cell_type": "code",
      "source": [
        "# Now lets evaluate the accuracies\n",
        "with torch.no_grad():\n",
        "    # remember, the output of model is still probabilities, we need to round them up\n",
        "    train_preds = np.round( model(X_train).numpy() )\n",
        "    train_accuracy = np.mean( train_preds == Y_train.numpy() )\n",
        "    \n",
        "    test_preds = np.round( model(X_test).numpy() )\n",
        "    test_accuracy = np.mean( test_preds == Y_test.numpy() )\n",
        "    print(f\"Train Accuracy {train_accuracy:.4f}, Test Accuracy {test_accuracy:.4f}\")"
      ],
      "metadata": {
        "colab": {
          "base_uri": "https://localhost:8080/"
        },
        "id": "ZfRx4WywgRQw",
        "outputId": "9781720d-857b-4605-a66b-dcc3972461bc"
      },
      "execution_count": 14,
      "outputs": [
        {
          "output_type": "stream",
          "name": "stdout",
          "text": [
            "Train Accuracy 0.9846, Test Accuracy 0.9825\n"
          ]
        }
      ]
    },
    {
      "cell_type": "code",
      "source": [
        "# Now Saving and Loading the model\n",
        "# We can see these are the actual parameters values of model, we will save these parameters values and not the \n",
        "# configuration of the architecture\n",
        "model.state_dict()"
      ],
      "metadata": {
        "colab": {
          "base_uri": "https://localhost:8080/"
        },
        "id": "GZ12tzzrj3YQ",
        "outputId": "4fc22cc2-ca80-4917-cdff-34efea960304"
      },
      "execution_count": 16,
      "outputs": [
        {
          "output_type": "execute_result",
          "data": {
            "text/plain": [
              "OrderedDict([('0.weight',\n",
              "              tensor([[-0.1767, -0.5103, -0.4718, -0.3432, -0.0911, -0.1008, -0.2739, -0.3713,\n",
              "                       -0.1891,  0.3427, -0.2581,  0.0226, -0.4462, -0.2686,  0.0725,  0.0616,\n",
              "                        0.1182, -0.3214,  0.1751,  0.2369, -0.2703, -0.2730, -0.3842, -0.3876,\n",
              "                       -0.5258, -0.1296, -0.2492, -0.2067, -0.3234, -0.1847]])),\n",
              "             ('0.bias', tensor([0.5025]))])"
            ]
          },
          "metadata": {},
          "execution_count": 16
        }
      ]
    },
    {
      "cell_type": "code",
      "source": [
        "torch.save( model.state_dict(), 'model.pt' )"
      ],
      "metadata": {
        "id": "nWjnQPLik2NT"
      },
      "execution_count": 17,
      "outputs": []
    },
    {
      "cell_type": "code",
      "source": [
        "# Now load the model back, for that we need to define the architecture again\n",
        "model2 = nn.Sequential(\n",
        "    nn.Linear(D, 1),\n",
        "    nn.Sigmoid()\n",
        ")\n",
        "\n",
        "model2.load_state_dict( torch.load('model.pt') )"
      ],
      "metadata": {
        "colab": {
          "base_uri": "https://localhost:8080/"
        },
        "id": "nENjRmiDlSG3",
        "outputId": "51a760d4-e469-4ff5-f559-899df6c45919"
      },
      "execution_count": 19,
      "outputs": [
        {
          "output_type": "execute_result",
          "data": {
            "text/plain": [
              "<All keys matched successfully>"
            ]
          },
          "metadata": {},
          "execution_count": 19
        }
      ]
    },
    {
      "cell_type": "code",
      "source": [
        "with torch.no_grad():\n",
        "    train_preds = np.round( model2(X_train).numpy() )\n",
        "    train_accuracy = np.mean( train_preds == Y_train.numpy() )\n",
        "    \n",
        "    test_preds = np.round( model2(X_test).numpy() )\n",
        "    test_accuracy = np.mean( test_preds == Y_test.numpy() )\n",
        "    print(f\"Train Accuracy {train_accuracy:.4f}, Test Accuracy {test_accuracy:.4f}\")"
      ],
      "metadata": {
        "colab": {
          "base_uri": "https://localhost:8080/"
        },
        "id": "6IDgaU1Flmrq",
        "outputId": "adac0e7a-662f-4418-f598-c4021951b8b9"
      },
      "execution_count": 20,
      "outputs": [
        {
          "output_type": "stream",
          "name": "stdout",
          "text": [
            "Train Accuracy 0.9846, Test Accuracy 0.9825\n"
          ]
        }
      ]
    },
    {
      "cell_type": "code",
      "source": [
        ""
      ],
      "metadata": {
        "id": "yC4oKy2Ul1MA"
      },
      "execution_count": null,
      "outputs": []
    }
  ]
}