{
  "nbformat": 4,
  "nbformat_minor": 0,
  "metadata": {
    "colab": {
      "name": "8_PytorchWithRGBImages.ipynb",
      "provenance": [],
      "authorship_tag": "ABX9TyNgT+A3xSEC+DkvBJWAHrJA",
      "include_colab_link": true
    },
    "kernelspec": {
      "name": "python3",
      "display_name": "Python 3"
    },
    "language_info": {
      "name": "python"
    },
    "accelerator": "GPU",
    "gpuClass": "standard"
  },
  "cells": [
    {
      "cell_type": "markdown",
      "metadata": {
        "id": "view-in-github",
        "colab_type": "text"
      },
      "source": [
        "<a href=\"https://colab.research.google.com/github/mahesh-keswani/pytorch-example-notebook/blob/main/8_PytorchWithRGBImages.ipynb\" target=\"_parent\"><img src=\"https://colab.research.google.com/assets/colab-badge.svg\" alt=\"Open In Colab\"/></a>"
      ]
    },
    {
      "cell_type": "code",
      "execution_count": 1,
      "metadata": {
        "id": "fOO5NPsQuG1o"
      },
      "outputs": [],
      "source": [
        "import torch\n",
        "import torch.nn as nn\n",
        "import torchvision\n",
        "import torchvision.transforms as transforms\n",
        "import numpy as np\n",
        "import matplotlib.pyplot as plt\n",
        "import time"
      ]
    },
    {
      "cell_type": "code",
      "source": [
        "def getData(train = False):\n",
        "    dataset = torchvision.datasets.CIFAR10(\n",
        "        root = \".\",\n",
        "        train = train,\n",
        "        download = True,\n",
        "        transform = transforms.ToTensor()\n",
        "    )\n",
        "    return dataset"
      ],
      "metadata": {
        "id": "ITLppE9Euiqn"
      },
      "execution_count": 2,
      "outputs": []
    },
    {
      "cell_type": "code",
      "source": [
        "trainDataset = getData(train = True)\n",
        "testDataset = getData(train = False)"
      ],
      "metadata": {
        "colab": {
          "base_uri": "https://localhost:8080/"
        },
        "id": "eHc1f4rqvURI",
        "outputId": "d3494859-363d-4ef2-f884-c4ad621621e4"
      },
      "execution_count": 3,
      "outputs": [
        {
          "output_type": "stream",
          "name": "stdout",
          "text": [
            "Files already downloaded and verified\n",
            "Files already downloaded and verified\n"
          ]
        }
      ]
    },
    {
      "cell_type": "code",
      "source": [
        "trainDataset.data.shape"
      ],
      "metadata": {
        "colab": {
          "base_uri": "https://localhost:8080/"
        },
        "id": "MMvWfO88vbUs",
        "outputId": "d881b72c-0be5-4697-b108-20835cf0ace5"
      },
      "execution_count": 4,
      "outputs": [
        {
          "output_type": "execute_result",
          "data": {
            "text/plain": [
              "(50000, 32, 32, 3)"
            ]
          },
          "metadata": {},
          "execution_count": 4
        }
      ]
    },
    {
      "cell_type": "code",
      "source": [
        "batchSize = 128\n",
        "trainLoader = torch.utils.data.DataLoader(\n",
        "    trainDataset,\n",
        "    batch_size = batchSize,\n",
        "    shuffle = True\n",
        ")\n",
        "\n",
        "testLoader = torch.utils.data.DataLoader(\n",
        "    testDataset,\n",
        "    batch_size = batchSize,\n",
        "    shuffle = False\n",
        ")"
      ],
      "metadata": {
        "id": "Dy5uvOoAvhNv"
      },
      "execution_count": 5,
      "outputs": []
    },
    {
      "cell_type": "code",
      "source": [
        "class MyCNN(nn.Module):\n",
        "    def __init__(self):\n",
        "        super(MyCNN, self).__init__()\n",
        "        self.conv_layers = nn.Sequential(\n",
        "            nn.Conv2d(3, 32, stride = 2, kernel_size = 3),\n",
        "            nn.ReLU(),\n",
        "            nn.Conv2d(32, 64, stride = 2, kernel_size = 3),\n",
        "            nn.ReLU(),\n",
        "            nn.Conv2d(64, 128, stride = 2, kernel_size = 3),\n",
        "            nn.ReLU(),\n",
        "        )\n",
        "        self.flatten = nn.Flatten()\n",
        "        self.dense_layers = nn.Sequential(\n",
        "            nn.Dropout(0.5),\n",
        "            nn.Linear(1152, 1024),\n",
        "            nn.ReLU(),\n",
        "            nn.Dropout(0.2),\n",
        "            nn.Linear(1024, 10)\n",
        "        )\n",
        "    \n",
        "    def forward(self, x):\n",
        "        x = self.conv_layers(x)\n",
        "        x = self.flatten(x)\n",
        "        x = self.dense_layers(x)\n",
        "        return x\n"
      ],
      "metadata": {
        "id": "fYOYOWNtv-Ls"
      },
      "execution_count": 6,
      "outputs": []
    },
    {
      "cell_type": "code",
      "source": [
        "criterion = nn.CrossEntropyLoss()\n",
        "model = MyCNN()\n",
        "optimizer = torch.optim.Adam( model.parameters())"
      ],
      "metadata": {
        "id": "J_YOpqsJ4xIQ"
      },
      "execution_count": 7,
      "outputs": []
    },
    {
      "cell_type": "code",
      "source": [
        "device = torch.device(\"cuda\" if torch.cuda.is_available() else \"cpu\")\n",
        "print(device)\n",
        "model.to(device)"
      ],
      "metadata": {
        "colab": {
          "base_uri": "https://localhost:8080/"
        },
        "id": "4WTZwRlg4fxu",
        "outputId": "a48c8005-285f-455c-f866-97226a44e863"
      },
      "execution_count": 8,
      "outputs": [
        {
          "output_type": "stream",
          "name": "stdout",
          "text": [
            "cuda\n"
          ]
        },
        {
          "output_type": "execute_result",
          "data": {
            "text/plain": [
              "MyCNN(\n",
              "  (conv_layers): Sequential(\n",
              "    (0): Conv2d(3, 32, kernel_size=(3, 3), stride=(2, 2))\n",
              "    (1): ReLU()\n",
              "    (2): Conv2d(32, 64, kernel_size=(3, 3), stride=(2, 2))\n",
              "    (3): ReLU()\n",
              "    (4): Conv2d(64, 128, kernel_size=(3, 3), stride=(2, 2))\n",
              "    (5): ReLU()\n",
              "  )\n",
              "  (flatten): Flatten(start_dim=1, end_dim=-1)\n",
              "  (dense_layers): Sequential(\n",
              "    (0): Dropout(p=0.5, inplace=False)\n",
              "    (1): Linear(in_features=1152, out_features=1024, bias=True)\n",
              "    (2): ReLU()\n",
              "    (3): Dropout(p=0.2, inplace=False)\n",
              "    (4): Linear(in_features=1024, out_features=10, bias=True)\n",
              "  )\n",
              ")"
            ]
          },
          "metadata": {},
          "execution_count": 8
        }
      ]
    },
    {
      "cell_type": "code",
      "source": [
        "EPOCHS = 15\n",
        "trainLosses = np.zeros(EPOCHS)\n",
        "testLosses = np.zeros(EPOCHS)\n",
        "\n",
        "for epoch in range(EPOCHS):\n",
        "    start = time.time()\n",
        "\n",
        "    trainLoss = []\n",
        "    for inputs, targets in trainLoader:\n",
        "        inputs, targets = inputs.to(device), targets.to(device)\n",
        "\n",
        "        outputs = model(inputs)\n",
        "        loss = criterion(outputs, targets)\n",
        "        loss.backward()\n",
        "        optimizer.step()\n",
        "\n",
        "        trainLoss.append( loss.item() )\n",
        "    \n",
        "    trainLosses[epoch] = np.mean(trainLoss)\n",
        "\n",
        "    testLoss = []\n",
        "    for inputs, targets in testLoader:\n",
        "        inputs, targets = inputs.to(device), targets.to(device)\n",
        "        outputs = model(inputs)\n",
        "        loss = criterion(outputs, targets)\n",
        "        testLoss.append( loss.item() )\n",
        "    \n",
        "    testLosses[epoch] = np.mean(testLoss)\n",
        "\n",
        "    took = time.time() - start\n",
        "    print(f\"Epoch {epoch}, Train Loss = {trainLosses[epoch]}, Test Loss = {testLosses[epoch]}, Duration = {took}\")"
      ],
      "metadata": {
        "colab": {
          "base_uri": "https://localhost:8080/"
        },
        "id": "wl5Ky3-w5Lz5",
        "outputId": "a64888fa-8d7c-4bbf-f840-8b95713cbedb"
      },
      "execution_count": 9,
      "outputs": [
        {
          "output_type": "stream",
          "name": "stdout",
          "text": [
            "Epoch 0, Train Loss = 2.3112272368672557, Test Loss = 2.311235304120221, Duration = 13.027673959732056\n",
            "Epoch 1, Train Loss = 2.3092220085661124, Test Loss = 2.3067388262929795, Duration = 8.625332355499268\n",
            "Epoch 2, Train Loss = 2.3090961491665265, Test Loss = 2.309116508387312, Duration = 8.591542482376099\n",
            "Epoch 3, Train Loss = 2.310217296985714, Test Loss = 2.3121334933027438, Duration = 8.66979718208313\n",
            "Epoch 4, Train Loss = 2.311019890143743, Test Loss = 2.3123098928717116, Duration = 8.711685419082642\n",
            "Epoch 5, Train Loss = 2.3147244941243126, Test Loss = 2.3170209232764907, Duration = 8.654781341552734\n",
            "Epoch 6, Train Loss = 2.316833541216448, Test Loss = 2.3167383097395113, Duration = 8.633986949920654\n",
            "Epoch 7, Train Loss = 2.3169017533207183, Test Loss = 2.3228292133234723, Duration = 9.309605121612549\n",
            "Epoch 8, Train Loss = 2.3147120542843322, Test Loss = 2.3231397037264667, Duration = 8.8557288646698\n",
            "Epoch 9, Train Loss = 2.3180464978718085, Test Loss = 2.3167998307867896, Duration = 8.620030164718628\n",
            "Epoch 10, Train Loss = 2.320288354478529, Test Loss = 2.3205014452149597, Duration = 8.655340433120728\n",
            "Epoch 11, Train Loss = 2.3188642687199974, Test Loss = 2.31730284268343, Duration = 8.767494916915894\n",
            "Epoch 12, Train Loss = 2.3186909115832783, Test Loss = 2.321254392213459, Duration = 8.603460788726807\n",
            "Epoch 13, Train Loss = 2.3208866887690163, Test Loss = 2.3161251394054556, Duration = 8.61354374885559\n",
            "Epoch 14, Train Loss = 2.3189181866853135, Test Loss = 2.3203497476215604, Duration = 8.643038511276245\n"
          ]
        }
      ]
    },
    {
      "cell_type": "code",
      "source": [
        "plt.xlabel(\"Epoch #\")\n",
        "plt.ylabel(\"Loss\")\n",
        "plt.plot(trainLosses, label = \"Train\")\n",
        "plt.plot(testLosses, label = \"Test\")\n",
        "plt.legend();"
      ],
      "metadata": {
        "colab": {
          "base_uri": "https://localhost:8080/",
          "height": 279
        },
        "id": "u5lNsTxp9FMM",
        "outputId": "20f1cdb4-c074-4a48-9ca4-dcc52eecaf73"
      },
      "execution_count": 10,
      "outputs": [
        {
          "output_type": "display_data",
          "data": {
            "text/plain": [
              "<Figure size 432x288 with 1 Axes>"
            ],
            "image/png": "[encoded data removed]"
          },
          "metadata": {
            "needs_background": "light"
          }
        }
      ]
    },
    {
      "cell_type": "code",
      "source": [
        "# Lets calculate accuracies\n",
        "totalCorrect = 0.\n",
        "totalCount = 0.\n",
        "for inputs, targets in trainLoader:\n",
        "    inputs, targets = inputs.to(device), targets.to(device)\n",
        "    outputs = model(inputs)\n",
        "    _, predictions = torch.max( outputs, axis = 1 )\n",
        "\n",
        "    totalCorrect += (targets == predictions).sum().item()\n",
        "    totalCount += targets.shape[0]\n",
        "\n",
        "print(f\"Train Accuracy = {totalCorrect / totalCount}\")\n",
        "\n",
        "totalCorrect = 0.\n",
        "totalCount = 0.\n",
        "for inputs, targets in testLoader:\n",
        "    inputs, targets = inputs.to(device), targets.to(device)\n",
        "    outputs = model(inputs)\n",
        "    _, predictions = torch.max( outputs, axis = 1 )\n",
        "\n",
        "    totalCorrect += (targets == predictions).sum().item()\n",
        "    totalCount += targets.shape[0]\n",
        "\n",
        "print(f\"Test Accuracy = {totalCorrect / totalCount}\")"
      ],
      "metadata": {
        "colab": {
          "base_uri": "https://localhost:8080/"
        },
        "id": "ppCUbiE293Ll",
        "outputId": "493e3760-e37f-4423-8c31-7d859c7a8128"
      },
      "execution_count": 11,
      "outputs": [
        {
          "output_type": "stream",
          "name": "stdout",
          "text": [
            "Train Accuracy = 0.1\n",
            "Test Accuracy = 0.1\n"
          ]
        }
      ]
    },
    {
      "cell_type": "code",
      "source": [
        "# Lets look at some samples where \n",
        "predictions = np.array([])\n",
        "for inputs, targets in testLoader:\n",
        "    inputs, targets = inputs.to(device), targets.to(device)\n",
        "    outputs = model(inputs)\n",
        "    _, preds = torch.max( outputs, axis = 1 )\n",
        "\n",
        "    predictions = np.concatenate( (predictions, preds.cpu().numpy()) )"
      ],
      "metadata": {
        "id": "C67HsVfnAa6s"
      },
      "execution_count": 12,
      "outputs": []
    },
    {
      "cell_type": "code",
      "source": [
        "classes = '''airplane\n",
        "automobile\n",
        "bird\n",
        "cat\n",
        "deer\n",
        "dog\n",
        "frog\n",
        "horse\n",
        "ship\n",
        "truck'''\n",
        "\n",
        "classes = classes.split(\"\\n\")"
      ],
      "metadata": {
        "id": "NfHDUz95HOhE"
      },
      "execution_count": 13,
      "outputs": []
    },
    {
      "cell_type": "code",
      "source": [
        "testImages = testDataset.data\n",
        "testLabels = testDataset.targets\n",
        "\n",
        "misclassifiedIndices = np.where( predictions != testLabels )[0]\n",
        "index = np.random.choice(misclassifiedIndices)\n",
        "\n",
        "plt.imshow( testImages[index] )\n",
        "plt.title(f\"True Label = {classes[ testLabels[index] ]}, Predicted Label = {classes[ int(predictions[index]) ]}\");"
      ],
      "metadata": {
        "colab": {
          "base_uri": "https://localhost:8080/",
          "height": 281
        },
        "id": "u7jg8jxQGIIP",
        "outputId": "f829d7bc-9844-4ec2-b704-4c6906a20df6"
      },
      "execution_count": 14,
      "outputs": [
        {
          "output_type": "display_data",
          "data": {
            "text/plain": [
              "<Figure size 432x288 with 1 Axes>"
            ],
            "image/png": "[encoded data removed]"
          },
          "metadata": {
            "needs_background": "light"
          }
        }
      ]
    },
    {
      "cell_type": "code",
      "source": [
        ""
      ],
      "metadata": {
        "id": "04SfsygpHmtv"
      },
      "execution_count": 14,
      "outputs": []
    }
  ]
}