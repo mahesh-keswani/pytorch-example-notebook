{
  "nbformat": 4,
  "nbformat_minor": 0,
  "metadata": {
    "colab": {
      "name": "8_PytorchWithRGBImages.ipynb",
      "provenance": [],
      "authorship_tag": "ABX9TyPEPk6MybLo98+WcwkyD7N+",
      "include_colab_link": true
    },
    "kernelspec": {
      "name": "python3",
      "display_name": "Python 3"
    },
    "language_info": {
      "name": "python"
    },
    "accelerator": "GPU",
    "gpuClass": "standard"
  },
  "cells": [
    {
      "cell_type": "markdown",
      "metadata": {
        "id": "view-in-github",
        "colab_type": "text"
      },
      "source": [
        "<a href=\"https://colab.research.google.com/github/mahesh-keswani/pytorch-example-notebook/blob/main/8_PytorchWithRGBImages.ipynb\" target=\"_parent\"><img src=\"https://colab.research.google.com/assets/colab-badge.svg\" alt=\"Open In Colab\"/></a>"
      ]
    },
    {
      "cell_type": "code",
      "execution_count": 1,
      "metadata": {
        "id": "fOO5NPsQuG1o"
      },
      "outputs": [],
      "source": [
        "import torch\n",
        "import torch.nn as nn\n",
        "import torchvision\n",
        "import torchvision.transforms as transforms\n",
        "import numpy as np\n",
        "import matplotlib.pyplot as plt\n",
        "import time"
      ]
    },
    {
      "cell_type": "code",
      "source": [
        "def getData(train = False):\n",
        "    dataset = torchvision.datasets.CIFAR10(\n",
        "        root = \".\",\n",
        "        train = train,\n",
        "        download = True,\n",
        "        transform = transforms.ToTensor()\n",
        "    )\n",
        "    return dataset"
      ],
      "metadata": {
        "id": "ITLppE9Euiqn"
      },
      "execution_count": 2,
      "outputs": []
    },
    {
      "cell_type": "code",
      "source": [
        "trainDataset = getData(train = True)\n",
        "testDataset = getData(train = False)"
      ],
      "metadata": {
        "colab": {
          "base_uri": "https://localhost:8080/"
        },
        "id": "eHc1f4rqvURI",
        "outputId": "5fbd99dc-a8b5-4f24-a346-a5036232c0be"
      },
      "execution_count": 3,
      "outputs": [
        {
          "output_type": "stream",
          "name": "stdout",
          "text": [
            "Downloading https://www.cs.toronto.edu/~kriz/cifar-10-python.tar.gz to ./cifar-10-python.tar.gz\n"
          ]
        },
        {
          "output_type": "stream",
          "name": "stderr",
          "text": [
            "100%|██████████| 170498071/170498071 [00:15<00:00, 11298446.83it/s]\n"
          ]
        },
        {
          "output_type": "stream",
          "name": "stdout",
          "text": [
            "Extracting ./cifar-10-python.tar.gz to .\n",
            "Files already downloaded and verified\n"
          ]
        }
      ]
    },
    {
      "cell_type": "code",
      "source": [
        "trainDataset.data.shape"
      ],
      "metadata": {
        "colab": {
          "base_uri": "https://localhost:8080/"
        },
        "id": "MMvWfO88vbUs",
        "outputId": "00875804-543f-4a28-9bf5-172722b48219"
      },
      "execution_count": 4,
      "outputs": [
        {
          "output_type": "execute_result",
          "data": {
            "text/plain": [
              "(50000, 32, 32, 3)"
            ]
          },
          "metadata": {},
          "execution_count": 4
        }
      ]
    },
    {
      "cell_type": "code",
      "source": [
        "batchSize = 128\n",
        "trainLoader = torch.utils.data.DataLoader(\n",
        "    trainDataset,\n",
        "    batch_size = batchSize,\n",
        "    shuffle = True\n",
        ")\n",
        "\n",
        "testLoader = torch.utils.data.DataLoader(\n",
        "    testDataset,\n",
        "    batch_size = batchSize,\n",
        "    shuffle = False\n",
        ")"
      ],
      "metadata": {
        "id": "Dy5uvOoAvhNv"
      },
      "execution_count": 5,
      "outputs": []
    },
    {
      "cell_type": "code",
      "source": [
        "class MyCNN(nn.Module):\n",
        "    def __init__(self):\n",
        "        super(MyCNN, self).__init__()\n",
        "        self.conv_layers = nn.Sequential(\n",
        "            nn.Conv2d(3, 32, stride = 2, kernel_size = 3),\n",
        "            nn.ReLU(),\n",
        "            nn.Conv2d(32, 64, stride = 2, kernel_size = 3),\n",
        "            nn.ReLU(),\n",
        "            nn.Conv2d(64, 128, stride = 2, kernel_size = 3),\n",
        "            nn.ReLU(),\n",
        "        )\n",
        "        self.flatten = nn.Flatten()\n",
        "        self.dense_layers = nn.Sequential(\n",
        "            nn.Dropout(0.3),\n",
        "            nn.Linear(128 * 3 * 3, 1024),\n",
        "            nn.ReLU(),\n",
        "            nn.Dropout(0.2),\n",
        "            nn.Linear(1024, 10)\n",
        "        )\n",
        "\n",
        "    def forward(self, x):\n",
        "        x = self.conv_layers(x)\n",
        "        x = self.flatten(x)\n",
        "        x = self.dense_layers(x)\n",
        "        return x\n"
      ],
      "metadata": {
        "id": "fYOYOWNtv-Ls"
      },
      "execution_count": 6,
      "outputs": []
    },
    {
      "cell_type": "code",
      "source": [
        "criterion = nn.CrossEntropyLoss()\n",
        "model = MyCNN()\n",
        "optimizer = torch.optim.Adam( model.parameters())"
      ],
      "metadata": {
        "id": "J_YOpqsJ4xIQ"
      },
      "execution_count": 7,
      "outputs": []
    },
    {
      "cell_type": "code",
      "source": [
        "device = torch.device(\"cuda\" if torch.cuda.is_available() else \"cpu\")\n",
        "print(device)\n",
        "model.to(device)"
      ],
      "metadata": {
        "colab": {
          "base_uri": "https://localhost:8080/"
        },
        "id": "4WTZwRlg4fxu",
        "outputId": "7aa90d59-a122-4470-ce53-ccd624047c2b"
      },
      "execution_count": 8,
      "outputs": [
        {
          "output_type": "stream",
          "name": "stdout",
          "text": [
            "cuda\n"
          ]
        },
        {
          "output_type": "execute_result",
          "data": {
            "text/plain": [
              "MyCNN(\n",
              "  (conv_layers): Sequential(\n",
              "    (0): Conv2d(3, 32, kernel_size=(3, 3), stride=(2, 2))\n",
              "    (1): ReLU()\n",
              "    (2): Conv2d(32, 64, kernel_size=(3, 3), stride=(2, 2))\n",
              "    (3): ReLU()\n",
              "    (4): Conv2d(64, 128, kernel_size=(3, 3), stride=(2, 2))\n",
              "    (5): ReLU()\n",
              "  )\n",
              "  (flatten): Flatten(start_dim=1, end_dim=-1)\n",
              "  (dense_layers): Sequential(\n",
              "    (0): Dropout(p=0.3, inplace=False)\n",
              "    (1): Linear(in_features=1152, out_features=1024, bias=True)\n",
              "    (2): ReLU()\n",
              "    (3): Dropout(p=0.2, inplace=False)\n",
              "    (4): Linear(in_features=1024, out_features=10, bias=True)\n",
              "  )\n",
              ")"
            ]
          },
          "metadata": {},
          "execution_count": 8
        }
      ]
    },
    {
      "cell_type": "code",
      "source": [
        "EPOCHS = 15\n",
        "trainLosses = np.zeros(EPOCHS)\n",
        "testLosses = np.zeros(EPOCHS)\n",
        "\n",
        "for epoch in range(EPOCHS):\n",
        "    start = time.time()\n",
        "\n",
        "    trainLoss = []\n",
        "    for inputs, targets in trainLoader:\n",
        "        optimizer.zero_grad()\n",
        "        inputs, targets = inputs.to(device), targets.to(device)\n",
        "\n",
        "        outputs = model(inputs)\n",
        "        loss = criterion(outputs, targets)\n",
        "        loss.backward()\n",
        "        optimizer.step()\n",
        "\n",
        "        trainLoss.append( loss.item() )\n",
        "\n",
        "    trainLosses[epoch] = np.mean(trainLoss)\n",
        "\n",
        "    testLoss = []\n",
        "    for inputs, targets in testLoader:\n",
        "        inputs, targets = inputs.to(device), targets.to(device)\n",
        "        outputs = model(inputs)\n",
        "        loss = criterion(outputs, targets)\n",
        "        testLoss.append( loss.item() )\n",
        "\n",
        "    testLosses[epoch] = np.mean(testLoss)\n",
        "\n",
        "    took = time.time() - start\n",
        "    print(f\"Epoch {epoch}, Train Loss = {trainLosses[epoch]}, Test Loss = {testLosses[epoch]}, Duration = {took}\")"
      ],
      "metadata": {
        "colab": {
          "base_uri": "https://localhost:8080/"
        },
        "id": "wl5Ky3-w5Lz5",
        "outputId": "24ad6c23-0056-4c12-e133-c585c7a760db"
      },
      "execution_count": 9,
      "outputs": [
        {
          "output_type": "stream",
          "name": "stdout",
          "text": [
            "Epoch 0, Train Loss = 1.6657089427913851, Test Loss = 1.4077234056931507, Duration = 10.48242449760437\n",
            "Epoch 1, Train Loss = 1.3509414464311527, Test Loss = 1.3041017432756061, Duration = 9.54506540298462\n",
            "Epoch 2, Train Loss = 1.2295548999705888, Test Loss = 1.2111294616626789, Duration = 9.639912605285645\n",
            "Epoch 3, Train Loss = 1.128356106903242, Test Loss = 1.141579495200628, Duration = 9.568115949630737\n",
            "Epoch 4, Train Loss = 1.0479290819229068, Test Loss = 1.0850154010555413, Duration = 9.92703628540039\n",
            "Epoch 5, Train Loss = 0.9744100398419763, Test Loss = 1.051333049430123, Duration = 8.950520277023315\n",
            "Epoch 6, Train Loss = 0.9097848065064081, Test Loss = 1.0643224753910983, Duration = 9.542871952056885\n",
            "Epoch 7, Train Loss = 0.8488602409582309, Test Loss = 1.0615780398815493, Duration = 9.603241205215454\n",
            "Epoch 8, Train Loss = 0.78743891398925, Test Loss = 1.017683190635488, Duration = 9.607180833816528\n",
            "Epoch 9, Train Loss = 0.7377605854397844, Test Loss = 1.0279393060297906, Duration = 9.612831830978394\n",
            "Epoch 10, Train Loss = 0.6928005450217011, Test Loss = 1.0180008811286734, Duration = 8.877625942230225\n",
            "Epoch 11, Train Loss = 0.642917838776508, Test Loss = 1.0518052864678298, Duration = 9.628870487213135\n",
            "Epoch 12, Train Loss = 0.596295490365504, Test Loss = 1.0674937820132775, Duration = 9.530476093292236\n",
            "Epoch 13, Train Loss = 0.5591417157741458, Test Loss = 1.0661186228824566, Duration = 9.675203323364258\n",
            "Epoch 14, Train Loss = 0.5248588766435833, Test Loss = 1.0807407038121284, Duration = 9.322375297546387\n"
          ]
        }
      ]
    },
    {
      "cell_type": "code",
      "source": [
        "plt.xlabel(\"Epoch #\")\n",
        "plt.ylabel(\"Loss\")\n",
        "plt.plot(trainLosses, label = \"Train\")\n",
        "plt.plot(testLosses, label = \"Test\")\n",
        "plt.legend();"
      ],
      "metadata": {
        "colab": {
          "base_uri": "https://localhost:8080/",
          "height": 449
        },
        "id": "u5lNsTxp9FMM",
        "outputId": "96c281d9-baa7-4468-aff5-9368537c86da"
      },
      "execution_count": 10,
      "outputs": [
        {
          "output_type": "display_data",
          "data": {
            "text/plain": [
              "<Figure size 640x480 with 1 Axes>"
            ],
            "image/png": "[encoded data removed]"
          },
          "metadata": {}
        }
      ]
    },
    {
      "cell_type": "code",
      "source": [
        "# Lets calculate accuracies\n",
        "totalCorrect = 0.\n",
        "totalCount = 0.\n",
        "for inputs, targets in trainLoader:\n",
        "    inputs, targets = inputs.to(device), targets.to(device)\n",
        "    outputs = model(inputs)\n",
        "    _, predictions = torch.max( outputs, axis = 1 )\n",
        "\n",
        "    totalCorrect += (targets == predictions).sum().item()\n",
        "    totalCount += targets.shape[0]\n",
        "\n",
        "print(f\"Train Accuracy = {totalCorrect / totalCount}\")\n",
        "\n",
        "totalCorrect = 0.\n",
        "totalCount = 0.\n",
        "for inputs, targets in testLoader:\n",
        "    inputs, targets = inputs.to(device), targets.to(device)\n",
        "    outputs = model(inputs)\n",
        "    _, predictions = torch.max( outputs, axis = 1 )\n",
        "\n",
        "    totalCorrect += (targets == predictions).sum().item()\n",
        "    totalCount += targets.shape[0]\n",
        "\n",
        "print(f\"Test Accuracy = {totalCorrect / totalCount}\")"
      ],
      "metadata": {
        "colab": {
          "base_uri": "https://localhost:8080/"
        },
        "id": "ppCUbiE293Ll",
        "outputId": "ab031ce8-c71b-4bcb-99ac-5c348d12f7ac"
      },
      "execution_count": 11,
      "outputs": [
        {
          "output_type": "stream",
          "name": "stdout",
          "text": [
            "Train Accuracy = 0.8389\n",
            "Test Accuracy = 0.6581\n"
          ]
        }
      ]
    },
    {
      "cell_type": "code",
      "source": [
        "# Lets look at some samples where\n",
        "predictions = np.array([])\n",
        "for inputs, targets in testLoader:\n",
        "    inputs, targets = inputs.to(device), targets.to(device)\n",
        "    outputs = model(inputs)\n",
        "    _, preds = torch.max( outputs, axis = 1 )\n",
        "\n",
        "    predictions = np.concatenate( (predictions, preds.cpu().numpy()) )"
      ],
      "metadata": {
        "id": "C67HsVfnAa6s"
      },
      "execution_count": 12,
      "outputs": []
    },
    {
      "cell_type": "code",
      "source": [
        "classes = '''airplane\n",
        "automobile\n",
        "bird\n",
        "cat\n",
        "deer\n",
        "dog\n",
        "frog\n",
        "horse\n",
        "ship\n",
        "truck'''\n",
        "\n",
        "classes = classes.split(\"\\n\")"
      ],
      "metadata": {
        "id": "NfHDUz95HOhE"
      },
      "execution_count": 13,
      "outputs": []
    },
    {
      "cell_type": "code",
      "source": [
        "testImages = testDataset.data\n",
        "testLabels = testDataset.targets\n",
        "\n",
        "misclassifiedIndices = np.where( predictions != testLabels )[0]\n",
        "index = np.random.choice(misclassifiedIndices)\n",
        "\n",
        "plt.imshow( testImages[index] )\n",
        "plt.title(f\"True Label = {classes[ testLabels[index] ]}, Predicted Label = {classes[ int(predictions[index]) ]}\");"
      ],
      "metadata": {
        "colab": {
          "base_uri": "https://localhost:8080/",
          "height": 452
        },
        "id": "u7jg8jxQGIIP",
        "outputId": "b9ef0ea5-4200-469e-97c1-c420e7e69b15"
      },
      "execution_count": 15,
      "outputs": [
        {
          "output_type": "display_data",
          "data": {
            "text/plain": [
              "<Figure size 640x480 with 1 Axes>"
            ],
            "image/png": "[encoded data removed]"
          },
          "metadata": {}
        }
      ]
    },
    {
      "cell_type": "code",
      "source": [],
      "metadata": {
        "id": "04SfsygpHmtv"
      },
      "execution_count": null,
      "outputs": []
    }
  ]
}