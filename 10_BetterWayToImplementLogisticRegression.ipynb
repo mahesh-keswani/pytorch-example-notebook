{
  "nbformat": 4,
  "nbformat_minor": 0,
  "metadata": {
    "colab": {
      "provenance": [],
      "gpuType": "T4",
      "authorship_tag": "ABX9TyNNN5pf5T8xoqEZZMlsDjIC",
      "include_colab_link": true
    },
    "kernelspec": {
      "name": "python3",
      "display_name": "Python 3"
    },
    "language_info": {
      "name": "python"
    },
    "accelerator": "GPU"
  },
  "cells": [
    {
      "cell_type": "markdown",
      "metadata": {
        "id": "view-in-github",
        "colab_type": "text"
      },
      "source": [
        "<a href=\"https://colab.research.google.com/github/mahesh-keswani/pytorch-example-notebook/blob/main/10_BetterWayToImplementLogisticRegression.ipynb\" target=\"_parent\"><img src=\"https://colab.research.google.com/assets/colab-badge.svg\" alt=\"Open In Colab\"/></a>"
      ]
    },
    {
      "cell_type": "code",
      "execution_count": 1,
      "metadata": {
        "id": "ZaS7z2FZjXvR"
      },
      "outputs": [],
      "source": [
        "import torch\n",
        "import torch.nn as nn\n",
        "import numpy as np\n",
        "import matplotlib.pyplot as plt\n",
        "from sklearn.datasets import load_breast_cancer\n",
        "from sklearn.model_selection import train_test_split"
      ]
    },
    {
      "cell_type": "code",
      "source": [
        "# This returns the Bunch object, but we can treat it as python dictionary\n",
        "data = load_breast_cancer()\n",
        "data.keys()"
      ],
      "metadata": {
        "colab": {
          "base_uri": "https://localhost:8080/"
        },
        "id": "LXye8leJjjmU",
        "outputId": "f759e8ff-1051-4da4-8f51-5fb09dbb1ce9"
      },
      "execution_count": 2,
      "outputs": [
        {
          "output_type": "execute_result",
          "data": {
            "text/plain": [
              "dict_keys(['data', 'target', 'frame', 'target_names', 'DESCR', 'feature_names', 'filename', 'data_module'])"
            ]
          },
          "metadata": {},
          "execution_count": 2
        }
      ]
    },
    {
      "cell_type": "code",
      "source": [
        "X = data.data\n",
        "Y = data.target.reshape(-1, 1) # Array of zero's and one's\n",
        "print(X.shape, Y.shape)"
      ],
      "metadata": {
        "colab": {
          "base_uri": "https://localhost:8080/"
        },
        "id": "E-jDicb8jnfo",
        "outputId": "d4f002ec-0efa-45f9-d808-b0dcb02ef158"
      },
      "execution_count": 3,
      "outputs": [
        {
          "output_type": "stream",
          "name": "stdout",
          "text": [
            "(569, 30) (569, 1)\n"
          ]
        }
      ]
    },
    {
      "cell_type": "code",
      "source": [
        "# The two classes which we are trying to classify\n",
        "data.target_names"
      ],
      "metadata": {
        "colab": {
          "base_uri": "https://localhost:8080/"
        },
        "id": "pDiB3Cm-ju7D",
        "outputId": "0f5c9bb9-d86b-4354-dcfc-5689036933a6"
      },
      "execution_count": 4,
      "outputs": [
        {
          "output_type": "execute_result",
          "data": {
            "text/plain": [
              "array(['malignant', 'benign'], dtype='<U9')"
            ]
          },
          "metadata": {},
          "execution_count": 4
        }
      ]
    },
    {
      "cell_type": "code",
      "source": [
        "data.feature_names"
      ],
      "metadata": {
        "colab": {
          "base_uri": "https://localhost:8080/"
        },
        "id": "mi6DuXpVjzC0",
        "outputId": "788c8b96-9f36-4022-e648-59a8baa1def4"
      },
      "execution_count": 5,
      "outputs": [
        {
          "output_type": "execute_result",
          "data": {
            "text/plain": [
              "array(['mean radius', 'mean texture', 'mean perimeter', 'mean area',\n",
              "       'mean smoothness', 'mean compactness', 'mean concavity',\n",
              "       'mean concave points', 'mean symmetry', 'mean fractal dimension',\n",
              "       'radius error', 'texture error', 'perimeter error', 'area error',\n",
              "       'smoothness error', 'compactness error', 'concavity error',\n",
              "       'concave points error', 'symmetry error',\n",
              "       'fractal dimension error', 'worst radius', 'worst texture',\n",
              "       'worst perimeter', 'worst area', 'worst smoothness',\n",
              "       'worst compactness', 'worst concavity', 'worst concave points',\n",
              "       'worst symmetry', 'worst fractal dimension'], dtype='<U23')"
            ]
          },
          "metadata": {},
          "execution_count": 5
        }
      ]
    },
    {
      "cell_type": "code",
      "source": [
        "X_train, X_test, Y_train, Y_test = train_test_split(X, Y, test_size = 0.2)"
      ],
      "metadata": {
        "id": "f0uO-2_gj2e_"
      },
      "execution_count": 6,
      "outputs": []
    },
    {
      "cell_type": "code",
      "source": [
        "from sklearn.preprocessing import StandardScaler\n",
        "\n",
        "sc = StandardScaler()\n",
        "X_train = sc.fit_transform(X_train)\n",
        "X_test = sc.transform(X_test)"
      ],
      "metadata": {
        "id": "SiREKwu0j6KM"
      },
      "execution_count": 7,
      "outputs": []
    },
    {
      "cell_type": "code",
      "source": [
        "X_train = torch.from_numpy( X_train.astype(np.float32) )\n",
        "X_test = torch.from_numpy( X_test.astype(np.float32) )\n",
        "Y_train = torch.from_numpy( Y_train.astype(np.float32) )\n",
        "Y_test = torch.from_numpy( Y_test.astype(np.float32) )"
      ],
      "metadata": {
        "id": "6XLFPaetj9Ek"
      },
      "execution_count": 8,
      "outputs": []
    },
    {
      "cell_type": "code",
      "source": [
        "# The issue with 3_PytorchLinearClassification.ipynb is, we  calculate sigmoid and then BCELoss, but exponential can increase very fast w.r.t to its  input\n",
        "# Also we are using log in binary cross entropy which almost cancels  out the exponential effect, so we  can directly substitute sigmoid instead of\n",
        "# y_hat in the BCELoss. e.g  y_hat = sigmoid(wTx + b), then loss = -(ylog(y_hat) + (1 - y)log(1 - y_hat))\n",
        "# instead of above, we can put sigmoid  in loss derive certain expression which adds better numerical stability.\n",
        "# Also, wTx + b is called sigmoid (input to activation)\n",
        "\n",
        "N, D = X_train.shape\n",
        "model = nn.Linear(D, 1)\n",
        "criterion = nn.BCEWithLogitsLoss()\n",
        "optimizer = torch.optim.Adam( model.parameters() )"
      ],
      "metadata": {
        "id": "DG1h-2SekBDP"
      },
      "execution_count": 9,
      "outputs": []
    },
    {
      "cell_type": "code",
      "source": [
        "EPOCHS = 1000\n",
        "train_losses = []\n",
        "test_losses = []\n",
        "\n",
        "for i in range(EPOCHS):\n",
        "    optimizer.zero_grad()\n",
        "\n",
        "    outputs = model(X_train)\n",
        "    loss = criterion(outputs, Y_train)\n",
        "    train_losses.append( loss.item() )\n",
        "\n",
        "    loss.backward()\n",
        "    optimizer.step()\n",
        "\n",
        "    test_predictions = model(X_test)\n",
        "    test_loss = criterion(test_predictions, Y_test)\n",
        "    test_losses.append(test_loss.item())\n",
        "\n",
        "    if (i + 1) % 50 == 0:\n",
        "        print(f\"Epoch: {i + 1}/{EPOCHS}, Train_loss: {loss.item()}, Test_loss: {test_loss.item()}\")"
      ],
      "metadata": {
        "colab": {
          "base_uri": "https://localhost:8080/"
        },
        "id": "8csWv1h0lc1G",
        "outputId": "e65f303b-30f8-4a0c-a787-0095c7a16fbd"
      },
      "execution_count": 10,
      "outputs": [
        {
          "output_type": "stream",
          "name": "stdout",
          "text": [
            "Epoch: 50/1000, Train_loss: 0.44296690821647644, Test_loss: 0.45064398646354675\n",
            "Epoch: 100/1000, Train_loss: 0.33597758412361145, Test_loss: 0.3349314033985138\n",
            "Epoch: 150/1000, Train_loss: 0.2764566242694855, Test_loss: 0.26805707812309265\n",
            "Epoch: 200/1000, Train_loss: 0.2381911426782608, Test_loss: 0.22387979924678802\n",
            "Epoch: 250/1000, Train_loss: 0.21132338047027588, Test_loss: 0.1925021857023239\n",
            "Epoch: 300/1000, Train_loss: 0.19136285781860352, Test_loss: 0.16917435824871063\n",
            "Epoch: 350/1000, Train_loss: 0.17594511806964874, Test_loss: 0.15123233199119568\n",
            "Epoch: 400/1000, Train_loss: 0.16368213295936584, Test_loss: 0.13704939186573029\n",
            "Epoch: 450/1000, Train_loss: 0.15369626879692078, Test_loss: 0.12557753920555115\n",
            "Epoch: 500/1000, Train_loss: 0.1454036980867386, Test_loss: 0.11611419171094894\n",
            "Epoch: 550/1000, Train_loss: 0.1384015679359436, Test_loss: 0.108173668384552\n",
            "Epoch: 600/1000, Train_loss: 0.13240374624729156, Test_loss: 0.10141169279813766\n",
            "Epoch: 650/1000, Train_loss: 0.1272018700838089, Test_loss: 0.09557860344648361\n",
            "Epoch: 700/1000, Train_loss: 0.1226411685347557, Test_loss: 0.09048992395401001\n",
            "Epoch: 750/1000, Train_loss: 0.11860436946153641, Test_loss: 0.08600688725709915\n",
            "Epoch: 800/1000, Train_loss: 0.11500123143196106, Test_loss: 0.08202340453863144\n",
            "Epoch: 850/1000, Train_loss: 0.11176126450300217, Test_loss: 0.07845710963010788\n",
            "Epoch: 900/1000, Train_loss: 0.1088285818696022, Test_loss: 0.07524319738149643\n",
            "Epoch: 950/1000, Train_loss: 0.10615842044353485, Test_loss: 0.07232993841171265\n",
            "Epoch: 1000/1000, Train_loss: 0.10371451079845428, Test_loss: 0.06967561691999435\n"
          ]
        }
      ]
    },
    {
      "cell_type": "code",
      "source": [
        "plt.plot(train_losses, label = \"Train Loss\")\n",
        "plt.plot(test_losses, label = \"Test Loss\")\n",
        "plt.legend();"
      ],
      "metadata": {
        "colab": {
          "base_uri": "https://localhost:8080/",
          "height": 431
        },
        "id": "dr0iL5HFliqA",
        "outputId": "c90cb73d-b57e-47e6-b76b-7a435d68ebfd"
      },
      "execution_count": 11,
      "outputs": [
        {
          "output_type": "display_data",
          "data": {
            "text/plain": [
              "<Figure size 640x480 with 1 Axes>"
            ],
            "image/png": "[encoded data removed]"
          },
          "metadata": {}
        }
      ]
    },
    {
      "cell_type": "code",
      "source": [
        "# Now lets evaluate the accuracies\n",
        "# Since we don't have sigmoid at the output, now we cannot use > 0.5 then 1 else 0\n",
        "# we need  to check if logit is  > 0 inorder to decide  decision boundry\n",
        "with torch.no_grad():\n",
        "    # remember, the output of model is still probabilities, we need to round them up\n",
        "    train_preds = (model(X_train).numpy() > 0)\n",
        "    train_accuracy = np.mean( train_preds == Y_train.numpy() )\n",
        "\n",
        "    test_preds = ( model(X_test).numpy() > 0 )\n",
        "    test_accuracy = np.mean( test_preds == Y_test.numpy() )\n",
        "    print(f\"Train Accuracy {train_accuracy:.4f}, Test Accuracy {test_accuracy:.4f}\")"
      ],
      "metadata": {
        "colab": {
          "base_uri": "https://localhost:8080/"
        },
        "id": "xsX9LSldln8M",
        "outputId": "606f4253-1f4c-46fd-ac2f-2dc0dc6b6073"
      },
      "execution_count": 13,
      "outputs": [
        {
          "output_type": "stream",
          "name": "stdout",
          "text": [
            "Train Accuracy 0.9780, Test Accuracy 0.9912\n"
          ]
        }
      ]
    },
    {
      "cell_type": "code",
      "source": [],
      "metadata": {
        "id": "GA5w62cwlsNv"
      },
      "execution_count": null,
      "outputs": []
    }
  ]
}